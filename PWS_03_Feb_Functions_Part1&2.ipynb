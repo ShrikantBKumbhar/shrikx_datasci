{
  "nbformat": 4,
  "nbformat_minor": 0,
  "metadata": {
    "colab": {
      "provenance": [],
      "authorship_tag": "ABX9TyPrbLVxTmf1KRPl79JJgm+d",
      "include_colab_link": true
    },
    "kernelspec": {
      "name": "python3",
      "display_name": "Python 3"
    },
    "language_info": {
      "name": "python"
    }
  },
  "cells": [
    {
      "cell_type": "markdown",
      "metadata": {
        "id": "view-in-github",
        "colab_type": "text"
      },
      "source": [
        "<a href=\"https://colab.research.google.com/github/ShrikantBKumbhar/shrikx_datasci/blob/main/PWS_03_Feb_Functions_Part1%262.ipynb\" target=\"_parent\"><img src=\"https://colab.research.google.com/assets/colab-badge.svg\" alt=\"Open In Colab\"/></a>"
      ]
    },
    {
      "cell_type": "code",
      "execution_count": null,
      "metadata": {
        "id": "x8NmAKKBsCUT"
      },
      "outputs": [],
      "source": [
        "def test3():\n",
        "  return 1,2,'pwskills',2.4"
      ]
    },
    {
      "cell_type": "code",
      "source": [
        "test3()"
      ],
      "metadata": {
        "colab": {
          "base_uri": "https://localhost:8080/"
        },
        "id": "egkf6aLAsjMx",
        "outputId": "05a23371-75ad-4ee5-acd6-a910eacf65fb"
      },
      "execution_count": null,
      "outputs": [
        {
          "output_type": "execute_result",
          "data": {
            "text/plain": [
              "(1, 2, 'pwskills', 2.4)"
            ]
          },
          "metadata": {},
          "execution_count": 3
        }
      ]
    },
    {
      "cell_type": "code",
      "source": [
        "#always use 'return' keyword in funciton\n",
        "def test4():\n",
        "  a=3*4 +6\n",
        "  return a"
      ],
      "metadata": {
        "id": "DhcRbJOvs6MC"
      },
      "execution_count": null,
      "outputs": []
    },
    {
      "cell_type": "code",
      "source": [
        "test4()"
      ],
      "metadata": {
        "colab": {
          "base_uri": "https://localhost:8080/"
        },
        "id": "l6mPKtAptKTi",
        "outputId": "d5aacd5d-f3f8-4a25-e4e3-c800c6666192"
      },
      "execution_count": null,
      "outputs": [
        {
          "output_type": "execute_result",
          "data": {
            "text/plain": [
              "18"
            ]
          },
          "metadata": {},
          "execution_count": 5
        }
      ]
    },
    {
      "cell_type": "code",
      "source": [
        "type(test4())"
      ],
      "metadata": {
        "colab": {
          "base_uri": "https://localhost:8080/"
        },
        "id": "eQCT061ctNzk",
        "outputId": "d241a92b-ad87-4cd7-87ae-3c7bd7d1741e"
      },
      "execution_count": null,
      "outputs": [
        {
          "output_type": "execute_result",
          "data": {
            "text/plain": [
              "int"
            ]
          },
          "metadata": {},
          "execution_count": 6
        }
      ]
    },
    {
      "cell_type": "code",
      "source": [
        "def test5(a,b):\n",
        "  c = a + b\n",
        "  return c"
      ],
      "metadata": {
        "id": "SvMMnp_AtYbH"
      },
      "execution_count": null,
      "outputs": []
    },
    {
      "cell_type": "code",
      "source": [
        "test5(5,6)"
      ],
      "metadata": {
        "colab": {
          "base_uri": "https://localhost:8080/"
        },
        "id": "qV_eTk3ktgFx",
        "outputId": "ab24ac88-871d-4532-dbe5-80b68e8f7e36"
      },
      "execution_count": null,
      "outputs": [
        {
          "output_type": "execute_result",
          "data": {
            "text/plain": [
              "11"
            ]
          },
          "metadata": {},
          "execution_count": 8
        }
      ]
    },
    {
      "cell_type": "code",
      "source": [
        "test5(\"shrikant\",\" kumbhar\") #diff strings as argument - concatenate strings"
      ],
      "metadata": {
        "colab": {
          "base_uri": "https://localhost:8080/",
          "height": 36
        },
        "id": "KOGlCBGBuCMC",
        "outputId": "4c5a6548-c2f6-4715-93c3-b905741f27ff"
      },
      "execution_count": null,
      "outputs": [
        {
          "output_type": "execute_result",
          "data": {
            "text/plain": [
              "'shrikant kumbhar'"
            ],
            "application/vnd.google.colaboratory.intrinsic+json": {
              "type": "string"
            }
          },
          "metadata": {},
          "execution_count": 9
        }
      ]
    },
    {
      "cell_type": "code",
      "source": [
        "test5([1,2,3,4],[5,6,7,7]) #list as argument - it concatenate two lists"
      ],
      "metadata": {
        "colab": {
          "base_uri": "https://localhost:8080/"
        },
        "id": "5J_Zc3b9uJhi",
        "outputId": "49abb565-bd6e-49b6-c570-58c14eb5a49e"
      },
      "execution_count": null,
      "outputs": [
        {
          "output_type": "execute_result",
          "data": {
            "text/plain": [
              "[1, 2, 3, 4, 5, 6, 7, 7]"
            ]
          },
          "metadata": {},
          "execution_count": 10
        }
      ]
    },
    {
      "cell_type": "code",
      "source": [
        "test5(b=\"shree\",a=\" kumbhar\") #we can change place of arguments by passing argument this way"
      ],
      "metadata": {
        "colab": {
          "base_uri": "https://localhost:8080/",
          "height": 36
        },
        "id": "dqxVwCUQumaP",
        "outputId": "46c5ddf6-6857-4b72-cc6a-8d26d6ce7f29"
      },
      "execution_count": null,
      "outputs": [
        {
          "output_type": "execute_result",
          "data": {
            "text/plain": [
              "' kumbharshree'"
            ],
            "application/vnd.google.colaboratory.intrinsic+json": {
              "type": "string"
            }
          },
          "metadata": {},
          "execution_count": 11
        }
      ]
    },
    {
      "cell_type": "code",
      "source": [
        "l1=[1,2,3,4,'shrik','pwskills',[5,6,7]]"
      ],
      "metadata": {
        "id": "S7JE1BUGvDkG"
      },
      "execution_count": null,
      "outputs": []
    },
    {
      "cell_type": "code",
      "source": [
        "#create a func which will take list as input and give me final list with all numeric values (l1)\n",
        "def numeric(a):\n",
        "  l2 = [] #empty list to store numeric values\n",
        "  for i in a:\n",
        "    if type(i) == int or type(i) == float:\n",
        "      l2.append(i)\n",
        "  \n",
        "  return l2"
      ],
      "metadata": {
        "id": "aKel0Io6vTUx"
      },
      "execution_count": null,
      "outputs": []
    },
    {
      "cell_type": "code",
      "source": [
        "numeric(l1)"
      ],
      "metadata": {
        "colab": {
          "base_uri": "https://localhost:8080/"
        },
        "id": "1dkdNmg3wFFn",
        "outputId": "6ec37be2-c178-42e8-f77e-7dec41fa49ea"
      },
      "execution_count": null,
      "outputs": [
        {
          "output_type": "execute_result",
          "data": {
            "text/plain": [
              "[1, 2, 3, 4]"
            ]
          },
          "metadata": {},
          "execution_count": 14
        }
      ]
    },
    {
      "cell_type": "code",
      "source": [
        "def numeric1(b): #check for numeric vales in list inside list\n",
        "  l3=[]\n",
        "  for i in b:\n",
        "    if type(i) == int or type(i) == float:\n",
        "          l3.append(i)\n",
        "\n",
        "    else:\n",
        "      if type(i) == list:\n",
        "        for j in i:\n",
        "          if type(j) == int or type(j) == float:\n",
        "            l3.append(j)\n",
        " \n",
        "        \n",
        "     \n",
        "  return l3"
      ],
      "metadata": {
        "id": "8J8Z_6LywqLm"
      },
      "execution_count": null,
      "outputs": []
    },
    {
      "cell_type": "code",
      "source": [
        "numeric1(l1)"
      ],
      "metadata": {
        "colab": {
          "base_uri": "https://localhost:8080/"
        },
        "id": "Epnh-FETyNe1",
        "outputId": "a3448126-49ca-4b5e-fa88-ddcbf8419762"
      },
      "execution_count": null,
      "outputs": [
        {
          "output_type": "execute_result",
          "data": {
            "text/plain": [
              "[1, 2, 3, 4, 5, 6, 7]"
            ]
          },
          "metadata": {},
          "execution_count": 16
        }
      ]
    },
    {
      "cell_type": "code",
      "source": [
        "def test7(a,b,c,d):\n",
        "  pass"
      ],
      "metadata": {
        "id": "2xYPz1bK1CCi"
      },
      "execution_count": null,
      "outputs": []
    },
    {
      "cell_type": "code",
      "source": [
        "test7(1,2,3,4,5) #can not take arguments more than what specified in function definition"
      ],
      "metadata": {
        "colab": {
          "base_uri": "https://localhost:8080/",
          "height": 165
        },
        "id": "rgQxjRae22kY",
        "outputId": "4f9b4c75-9d9a-4521-ee77-bd542589f315"
      },
      "execution_count": null,
      "outputs": [
        {
          "output_type": "error",
          "ename": "TypeError",
          "evalue": "ignored",
          "traceback": [
            "\u001b[0;31m---------------------------------------------------------------------------\u001b[0m",
            "\u001b[0;31mTypeError\u001b[0m                                 Traceback (most recent call last)",
            "\u001b[0;32m<ipython-input-18-34dbb31fe90b>\u001b[0m in \u001b[0;36m<module>\u001b[0;34m\u001b[0m\n\u001b[0;32m----> 1\u001b[0;31m \u001b[0mtest7\u001b[0m\u001b[0;34m(\u001b[0m\u001b[0;36m1\u001b[0m\u001b[0;34m,\u001b[0m\u001b[0;36m2\u001b[0m\u001b[0;34m,\u001b[0m\u001b[0;36m3\u001b[0m\u001b[0;34m,\u001b[0m\u001b[0;36m4\u001b[0m\u001b[0;34m,\u001b[0m\u001b[0;36m5\u001b[0m\u001b[0;34m)\u001b[0m \u001b[0;31m#can not take arguments more than what specified in function definition\u001b[0m\u001b[0;34m\u001b[0m\u001b[0;34m\u001b[0m\u001b[0m\n\u001b[0m",
            "\u001b[0;31mTypeError\u001b[0m: test7() takes 4 positional arguments but 5 were given"
          ]
        }
      ]
    },
    {
      "cell_type": "code",
      "source": [
        "def test8(*args): #*arges used to pass any no of arguments to a function - meaning if no of argument is unknown we can use this - args is not a keyword - we can specify our own name\n",
        "  return args"
      ],
      "metadata": {
        "id": "Pxa1A9Jv27dC"
      },
      "execution_count": null,
      "outputs": []
    },
    {
      "cell_type": "code",
      "source": [
        "test8(1,8,64,2,8,61,2,64,6)"
      ],
      "metadata": {
        "id": "hxpC0b9d3qS9"
      },
      "execution_count": null,
      "outputs": []
    },
    {
      "cell_type": "code",
      "source": [
        "def test(*args, a): #if arguments include any constant/fixed value e.g a - if we want to pass a fix value along with other unknown no of arguments\n",
        "  return args, a\n",
        "\n",
        "test(1,6,2,a=\"shrik\")  "
      ],
      "metadata": {
        "colab": {
          "base_uri": "https://localhost:8080/"
        },
        "id": "qsT_NACK4cz0",
        "outputId": "1a0a617d-968e-4998-ef7a-56e846a75528"
      },
      "execution_count": null,
      "outputs": [
        {
          "output_type": "execute_result",
          "data": {
            "text/plain": [
              "((1, 6, 2), 'shrik')"
            ]
          },
          "metadata": {},
          "execution_count": 20
        }
      ]
    },
    {
      "cell_type": "code",
      "source": [
        "def test9(*args):\n",
        "  l=[]\n",
        "  for i in args:\n",
        "    if type(i) == list:\n",
        "      l.append(i)\n",
        "  return l"
      ],
      "metadata": {
        "id": "-tMzOLPx5sOP"
      },
      "execution_count": null,
      "outputs": []
    },
    {
      "cell_type": "code",
      "source": [
        "test9(1,2,3,\"shrik\",[10,20,50,60],(55,22,33),45.50)"
      ],
      "metadata": {
        "colab": {
          "base_uri": "https://localhost:8080/"
        },
        "id": "lfGDOgfs6Ji5",
        "outputId": "16384098-6d90-42a2-8927-14ebcf1dfda5"
      },
      "execution_count": null,
      "outputs": [
        {
          "output_type": "execute_result",
          "data": {
            "text/plain": [
              "[[10, 20, 50, 60]]"
            ]
          },
          "metadata": {},
          "execution_count": 23
        }
      ]
    },
    {
      "cell_type": "code",
      "source": [
        "#keyword argument: if arguments are passed as key value pair with unknown number of argument\n",
        "def test10(**kwargs):\n",
        "  return kwargs\n"
      ],
      "metadata": {
        "id": "hA3981qf6mZb"
      },
      "execution_count": null,
      "outputs": []
    },
    {
      "cell_type": "code",
      "source": [
        "test10() #it returns empty dict because no argument are passed yet"
      ],
      "metadata": {
        "colab": {
          "base_uri": "https://localhost:8080/"
        },
        "id": "ZMDMxgWq64mf",
        "outputId": "079bb215-22c5-42d3-f805-a66749b36f54"
      },
      "execution_count": null,
      "outputs": [
        {
          "output_type": "execute_result",
          "data": {
            "text/plain": [
              "{}"
            ]
          },
          "metadata": {},
          "execution_count": 24
        }
      ]
    },
    {
      "cell_type": "code",
      "source": [
        "test10(a=5,b=10,c=[10,50,60],d=\"shrik\") #output shows dict of arguments"
      ],
      "metadata": {
        "colab": {
          "base_uri": "https://localhost:8080/"
        },
        "id": "C5Um29D37Feq",
        "outputId": "31948911-6790-43a1-d281-add7890dca98"
      },
      "execution_count": null,
      "outputs": [
        {
          "output_type": "execute_result",
          "data": {
            "text/plain": [
              "{'a': 5, 'b': 10, 'c': [10, 50, 60], 'd': 'shrik'}"
            ]
          },
          "metadata": {},
          "execution_count": 25
        }
      ]
    },
    {
      "cell_type": "code",
      "source": [
        "def test11(**kwargs):\n",
        "  for i in kwargs.keys():\n",
        "    if type(kwargs[i]) == list: #if type of value is list\n",
        "      return i, kwargs[i] #return key and value associated with key\n",
        "\n",
        "\n",
        "test11(a=5,b=10,c=[10,50,60],d=\"shrik\")"
      ],
      "metadata": {
        "colab": {
          "base_uri": "https://localhost:8080/"
        },
        "id": "d9LdXx5uzXJr",
        "outputId": "433e455e-d954-48df-f52e-0c783c97a774"
      },
      "execution_count": null,
      "outputs": [
        {
          "output_type": "execute_result",
          "data": {
            "text/plain": [
              "('c', [10, 50, 60])"
            ]
          },
          "metadata": {},
          "execution_count": 27
        }
      ]
    },
    {
      "cell_type": "code",
      "source": [
        "def test12(*args,**kwargs): #func can take any no of arguments, as well as any no of key value pair arguments\n",
        "  return args, kwargs\n",
        "\n",
        "\n",
        "test12(2,3,4,5,a=10,b=56,c=55) #it returns tuples of args passed arguments, and dict for key value pair arguments"
      ],
      "metadata": {
        "colab": {
          "base_uri": "https://localhost:8080/"
        },
        "id": "GeayY5a72SO6",
        "outputId": "fcc5ba7c-9e7c-46fb-9767-d0422a58caa4"
      },
      "execution_count": null,
      "outputs": [
        {
          "output_type": "execute_result",
          "data": {
            "text/plain": [
              "((2, 3, 4, 5), {'a': 10, 'b': 56, 'c': 55})"
            ]
          },
          "metadata": {},
          "execution_count": 31
        }
      ]
    },
    {
      "cell_type": "markdown",
      "source": [
        "**Generator function** - optimize code"
      ],
      "metadata": {
        "id": "mo_jzXOw3HMA"
      }
    },
    {
      "cell_type": "code",
      "source": [
        "#this is used in python project or ML project\n",
        "range(1,10) #one of the generator func"
      ],
      "metadata": {
        "colab": {
          "base_uri": "https://localhost:8080/"
        },
        "id": "sCNi3Y1E3GQM",
        "outputId": "f766db7b-fde6-419a-83ef-710227d155d8"
      },
      "execution_count": null,
      "outputs": [
        {
          "output_type": "execute_result",
          "data": {
            "text/plain": [
              "range(1, 10)"
            ]
          },
          "metadata": {},
          "execution_count": 33
        }
      ]
    },
    {
      "cell_type": "code",
      "source": [
        "#to generate data from range func we need to loop through it with for loop\n",
        "#e.g.\n",
        "for i in range(1,10):\n",
        "  print(i)"
      ],
      "metadata": {
        "colab": {
          "base_uri": "https://localhost:8080/"
        },
        "id": "TgMiPVb73vVb",
        "outputId": "31204e99-abaa-49d8-8a47-ae2ffa0ddb4d"
      },
      "execution_count": null,
      "outputs": [
        {
          "output_type": "stream",
          "name": "stdout",
          "text": [
            "1\n",
            "2\n",
            "3\n",
            "4\n",
            "5\n",
            "6\n",
            "7\n",
            "8\n",
            "9\n"
          ]
        }
      ]
    },
    {
      "cell_type": "code",
      "source": [
        "#fibonacci series with another generator func like range() - generator functions save lot of main memory by returning values one at a time and forgets previous\n",
        "# 0,1,1,2,3,5,8,13,21,34,55 and so on..\n",
        "#yield func \n",
        "# Return sends a specified value back to its caller whereas Yield can produce a sequence of values. \n",
        "# We should use yield when we want to iterate over a sequence, but don’t want to store the entire sequence in memory.\n",
        "# Yield is used in Python generators. A generator function is defined just like a normal function, but whenever it needs to generate a value,\n",
        "# it does so with the yield keyword rather than return. If the body of a def contains yield, the function automatically becomes a generator function. \n",
        "\n",
        "def fib(n):\n",
        "  a,b=0,1 \n",
        "\n",
        "  for i in range(n):\n",
        "    yield a \n",
        "    a, b = b, a+b #a=b and b=a+b"
      ],
      "metadata": {
        "id": "qbi5fLBD4BHz"
      },
      "execution_count": null,
      "outputs": []
    },
    {
      "cell_type": "code",
      "source": [
        "fib(10) #this return generator object only"
      ],
      "metadata": {
        "colab": {
          "base_uri": "https://localhost:8080/"
        },
        "id": "HFhepjw5K-DD",
        "outputId": "8cb32404-92f9-4029-e395-90577c84c552"
      },
      "execution_count": null,
      "outputs": [
        {
          "output_type": "execute_result",
          "data": {
            "text/plain": [
              "<generator object fib at 0x7f77d8761d60>"
            ]
          },
          "metadata": {},
          "execution_count": 53
        }
      ]
    },
    {
      "cell_type": "code",
      "source": [
        "for i in fib(10): #this will iterate and print values in generator object\n",
        "  print(i)"
      ],
      "metadata": {
        "colab": {
          "base_uri": "https://localhost:8080/"
        },
        "id": "1esF6TI1LSgz",
        "outputId": "6a7b5921-c7e9-4069-faf2-5c7193027185"
      },
      "execution_count": null,
      "outputs": [
        {
          "output_type": "stream",
          "name": "stdout",
          "text": [
            "0\n",
            "1\n",
            "1\n",
            "2\n",
            "3\n",
            "5\n",
            "8\n",
            "13\n",
            "21\n",
            "34\n"
          ]
        }
      ]
    }
  ]
}
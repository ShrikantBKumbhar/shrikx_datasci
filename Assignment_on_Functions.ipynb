{
  "nbformat": 4,
  "nbformat_minor": 0,
  "metadata": {
    "colab": {
      "provenance": [],
      "collapsed_sections": []
    },
    "kernelspec": {
      "name": "python3",
      "display_name": "Python 3"
    },
    "language_info": {
      "name": "python"
    }
  },
  "cells": [
    {
      "cell_type": "markdown",
      "source": [
        "Define a function that accepts a number and returns whether the number is even or odd."
      ],
      "metadata": {
        "id": "SA0zwy1HTiK-"
      }
    },
    {
      "cell_type": "code",
      "source": [
        "def math():\n",
        "\n",
        "  num=int(input('Enter any no: '))\n",
        "  \n",
        "  if num%2==0:\n",
        "    print('Given no is even: ', num)\n",
        "  \n",
        "  else:\n",
        "    print('Given no is odd: ', num)\n",
        "\n",
        "math()    "
      ],
      "metadata": {
        "colab": {
          "base_uri": "https://localhost:8080/"
        },
        "id": "2_6b8SGyunZk",
        "outputId": "d3f47847-9e20-4418-cc45-69b2767cdf18"
      },
      "execution_count": 108,
      "outputs": [
        {
          "output_type": "stream",
          "name": "stdout",
          "text": [
            "Enter any no: 54\n",
            "Given no is even:  54\n"
          ]
        }
      ]
    },
    {
      "cell_type": "code",
      "source": [
        "def math1():\n",
        "  \n",
        "  num1=int(input('Enter any no: '))\n",
        "  num1=0\n",
        "\n",
        "  while num1%2==0:\n",
        "    print('Given no is even: ', num1) or print('Given no is odd: ', num1)\n",
        "    \n",
        "    num1+=1\n",
        "\n",
        "math()"
      ],
      "metadata": {
        "colab": {
          "base_uri": "https://localhost:8080/"
        },
        "id": "YBhL1SVA6siK",
        "outputId": "f6c49d19-2643-42b6-c6f8-8718f71bc479"
      },
      "execution_count": 109,
      "outputs": [
        {
          "output_type": "stream",
          "name": "stdout",
          "text": [
            "Enter any no: 4654\n",
            "Given no is even:  4654\n"
          ]
        }
      ]
    },
    {
      "cell_type": "markdown",
      "source": [
        "Define a function to create and print a list where the values are square of numbers between 1 and 30 (both included)."
      ],
      "metadata": {
        "id": "eFB9qeBSTxRd"
      }
    },
    {
      "cell_type": "code",
      "source": [
        "def sqr():\n",
        "\n",
        " ll=[]\n",
        " \n",
        " for i in range(1, 31):\n",
        "  \n",
        "  i=i**2\n",
        "  ll.append(i)\n",
        "\n",
        " print(ll)\n",
        "\n",
        "sqr()"
      ],
      "metadata": {
        "colab": {
          "base_uri": "https://localhost:8080/"
        },
        "id": "QYmbECwuvcab",
        "outputId": "2a674eef-1c56-4c04-b89d-fd1b98ed748c"
      },
      "execution_count": 110,
      "outputs": [
        {
          "output_type": "stream",
          "name": "stdout",
          "text": [
            "[1, 4, 9, 16, 25, 36, 49, 64, 81, 100, 121, 144, 169, 196, 225, 256, 289, 324, 361, 400, 441, 484, 529, 576, 625, 676, 729, 784, 841, 900]\n"
          ]
        }
      ]
    },
    {
      "cell_type": "code",
      "source": [
        "def sqr1():\n",
        "\n",
        " l1=[]\n",
        " i=1\n",
        "\n",
        " while i<31:\n",
        "  a=i**2\n",
        "  i+=1\n",
        "  l1.append(a)\n",
        "\n",
        " print(l1)\n"
      ],
      "metadata": {
        "id": "9hZGlxWi04n0"
      },
      "execution_count": 111,
      "outputs": []
    },
    {
      "cell_type": "code",
      "source": [
        "sqr1()"
      ],
      "metadata": {
        "colab": {
          "base_uri": "https://localhost:8080/"
        },
        "id": "rGhGALAo44yC",
        "outputId": "804f43e0-3e51-4744-831f-9664b88ac710"
      },
      "execution_count": 112,
      "outputs": [
        {
          "output_type": "stream",
          "name": "stdout",
          "text": [
            "[1, 4, 9, 16, 25, 36, 49, 64, 81, 100, 121, 144, 169, 196, 225, 256, 289, 324, 361, 400, 441, 484, 529, 576, 625, 676, 729, 784, 841, 900]\n"
          ]
        }
      ]
    },
    {
      "cell_type": "markdown",
      "source": [
        "Define a function, shut_down, that takes one parameter. Then, if the shut_down function receives a value equal to \"yes\", it should print \"Shutting down\". Alternatively, if vallue is equal to \"no\", then the function should print \"Shutdown aborted\". Finally, if shut_down gets anything other than those inputs, the function should print \"Sorry\"."
      ],
      "metadata": {
        "id": "WPKsEW0dUIZF"
      }
    },
    {
      "cell_type": "code",
      "source": [
        "def shut_down(a=input('Shutdown?: ')):\n",
        "\n",
        "  if a=='Yes':\n",
        "    print('Shutting down')\n",
        "\n",
        "  elif a=='No':\n",
        "    print('Shutdown aborted')\n",
        "    \n",
        "  else:\n",
        "    print('Sorry!')  \n",
        "\n",
        "shut_down()    "
      ],
      "metadata": {
        "colab": {
          "base_uri": "https://localhost:8080/"
        },
        "id": "Z5x7cTzY82Of",
        "outputId": "feb46d3b-b3c1-4462-e53a-a4a4794e35e6"
      },
      "execution_count": 107,
      "outputs": [
        {
          "output_type": "stream",
          "name": "stdout",
          "text": [
            "Shutdown?: asdf\n",
            "Sorry!\n"
          ]
        }
      ]
    },
    {
      "cell_type": "markdown",
      "source": [
        " \n",
        "\n",
        "Define a function called \"by_three\" that takes a parameter called number. If that number is divisible by 3, \"by_three\" should print the cube of the number. Otherwise, by_three should print False."
      ],
      "metadata": {
        "id": "KosfqTW8Ur_1"
      }
    },
    {
      "cell_type": "code",
      "source": [
        "def by_three(number=int(input('Enter any no: '))):\n",
        "\n",
        "  if number%3==0:\n",
        "    number=number**3\n",
        "    print(number)\n",
        "  \n",
        "  else:\n",
        "    print('False')\n",
        "\n",
        "by_three()    "
      ],
      "metadata": {
        "colab": {
          "base_uri": "https://localhost:8080/"
        },
        "id": "14dRkJ1f-ysh",
        "outputId": "dca766ba-a06f-48d6-ea71-60671aeb825f"
      },
      "execution_count": 120,
      "outputs": [
        {
          "output_type": "stream",
          "name": "stdout",
          "text": [
            "Enter any no: 10\n",
            "False\n"
          ]
        }
      ]
    },
    {
      "cell_type": "markdown",
      "source": [
        "Define a function that takes a list and prints a new list with no duplicate \n",
        "\n",
        "*   List item\n",
        "\n",
        "*   List item\n",
        "*   List item\n",
        "\n",
        "\n",
        "*   List item\n",
        "\n",
        "elements given in the first list."
      ],
      "metadata": {
        "id": "EWbQXeU5WpdZ"
      }
    },
    {
      "cell_type": "code",
      "source": [
        "def dup(list1):\n",
        " \n",
        " list2=[]\n",
        " for i in list1:\n",
        "\n",
        "  if i not in list2:\n",
        "   list2.append(i)\n",
        "   \n",
        " print(list2)\n",
        "\n",
        "dup([1,15,15,10,13,13,10,18,20,65,18,])"
      ],
      "metadata": {
        "colab": {
          "base_uri": "https://localhost:8080/"
        },
        "id": "PWWm9xDxAkAa",
        "outputId": "6700d64e-cf24-4ad9-ae1d-1b8e4180fafd"
      },
      "execution_count": 156,
      "outputs": [
        {
          "output_type": "stream",
          "name": "stdout",
          "text": [
            "[1, 15, 10, 13, 18, 20, 65]\n"
          ]
        }
      ]
    },
    {
      "cell_type": "markdown",
      "source": [
        "Define a function that checks whether a passed string is palindrome or not."
      ],
      "metadata": {
        "id": "aU7jXWoHW4AR"
      }
    },
    {
      "cell_type": "code",
      "source": [
        "def pldrm(a=str(input('Enter a string: '))):\n",
        " \n",
        " b=a[len(a)+1::-1]   #reversed string\n",
        "\n",
        " if a==b:\n",
        "  print('String is palindrome')\n",
        "\n",
        " else:\n",
        "  print('String is not a palindrome')   \n",
        "\n",
        "pldrm()  "
      ],
      "metadata": {
        "colab": {
          "base_uri": "https://localhost:8080/"
        },
        "id": "ZelG1gR0GTw0",
        "outputId": "70dbb9f7-7626-477c-c0cf-8418906f0c49"
      },
      "execution_count": 253,
      "outputs": [
        {
          "output_type": "stream",
          "name": "stdout",
          "text": [
            "Enter a string: madam\n",
            "String is palindrome\n"
          ]
        }
      ]
    }
  ]
}
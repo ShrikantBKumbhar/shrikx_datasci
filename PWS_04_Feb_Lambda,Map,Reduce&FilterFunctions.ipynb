{
  "nbformat": 4,
  "nbformat_minor": 0,
  "metadata": {
    "colab": {
      "provenance": [],
      "authorship_tag": "ABX9TyNCtmIeE4wm9wAgeNtAZFkA",
      "include_colab_link": true
    },
    "kernelspec": {
      "name": "python3",
      "display_name": "Python 3"
    },
    "language_info": {
      "name": "python"
    }
  },
  "cells": [
    {
      "cell_type": "markdown",
      "metadata": {
        "id": "view-in-github",
        "colab_type": "text"
      },
      "source": [
        "<a href=\"https://colab.research.google.com/github/ShrikantBKumbhar/shrikx_datasci/blob/main/PWS_04_Feb_Lambda%2CMap%2CReduce%26FilterFunctions.ipynb\" target=\"_parent\"><img src=\"https://colab.research.google.com/assets/colab-badge.svg\" alt=\"Open In Colab\"/></a>"
      ]
    },
    {
      "cell_type": "code",
      "execution_count": null,
      "metadata": {
        "id": "WBfNC-ChNTOC"
      },
      "outputs": [],
      "source": [
        "# lambda function\n",
        "n = 3\n",
        "p = 2\n"
      ]
    },
    {
      "cell_type": "code",
      "source": [
        "def power(n,p): #normal func\n",
        "  return n**p"
      ],
      "metadata": {
        "id": "_Byhsy90N0XM"
      },
      "execution_count": null,
      "outputs": []
    },
    {
      "cell_type": "code",
      "source": [
        "power(3,8)"
      ],
      "metadata": {
        "colab": {
          "base_uri": "https://localhost:8080/"
        },
        "id": "ehi60M0dOAxe",
        "outputId": "daa57bd6-9fe0-4711-d290-2819406a1c74"
      },
      "execution_count": null,
      "outputs": [
        {
          "output_type": "execute_result",
          "data": {
            "text/plain": [
              "6561"
            ]
          },
          "metadata": {},
          "execution_count": 59
        }
      ]
    },
    {
      "cell_type": "code",
      "source": [
        "# A lambda function is a small anonymous function, no specific name to this func.\n",
        "# A lambda function can take any number of arguments, but can only have one expression.\n",
        "# this is a one liner func\n",
        "# syntax: lambda arguments : expression\n",
        "\n",
        "lambda n, p : n**p\n",
        "power = lambda n,p : n**p #need to store this function in a variable to return value"
      ],
      "metadata": {
        "id": "K9_o4LyQOkaI"
      },
      "execution_count": null,
      "outputs": []
    },
    {
      "cell_type": "code",
      "source": [
        "power(2,3) #arguments need to passed to a variavble which assigned to a lambda function\n"
      ],
      "metadata": {
        "colab": {
          "base_uri": "https://localhost:8080/"
        },
        "id": "fZnn_5JSO6-u",
        "outputId": "a7a9b9f0-9e42-4d39-e9d3-08d2b13305c0"
      },
      "execution_count": null,
      "outputs": [
        {
          "output_type": "execute_result",
          "data": {
            "text/plain": [
              "8"
            ]
          },
          "metadata": {},
          "execution_count": 61
        }
      ]
    },
    {
      "cell_type": "code",
      "source": [
        "power(10,3)"
      ],
      "metadata": {
        "colab": {
          "base_uri": "https://localhost:8080/"
        },
        "id": "BTpirbIVP3xG",
        "outputId": "f79fa12c-81fe-42f1-9b0c-342e96e24de4"
      },
      "execution_count": null,
      "outputs": [
        {
          "output_type": "execute_result",
          "data": {
            "text/plain": [
              "1000"
            ]
          },
          "metadata": {},
          "execution_count": 62
        }
      ]
    },
    {
      "cell_type": "code",
      "source": [
        "add = lambda x, y : x+y"
      ],
      "metadata": {
        "id": "gqV-d05EP5V4"
      },
      "execution_count": null,
      "outputs": []
    },
    {
      "cell_type": "code",
      "source": [
        "add(10,20)"
      ],
      "metadata": {
        "colab": {
          "base_uri": "https://localhost:8080/"
        },
        "id": "AZ6DPD2wQRFp",
        "outputId": "1588155f-22ab-4e87-aa2e-487b4703b13a"
      },
      "execution_count": null,
      "outputs": [
        {
          "output_type": "execute_result",
          "data": {
            "text/plain": [
              "30"
            ]
          },
          "metadata": {},
          "execution_count": 64
        }
      ]
    },
    {
      "cell_type": "code",
      "source": [
        "celtofer = lambda c : (9/5)*c+32 #celcius to farenhite"
      ],
      "metadata": {
        "id": "uBcNUcZ5QWU5"
      },
      "execution_count": null,
      "outputs": []
    },
    {
      "cell_type": "code",
      "source": [
        "celtofer(37)"
      ],
      "metadata": {
        "colab": {
          "base_uri": "https://localhost:8080/"
        },
        "id": "7nQnotOMQjWj",
        "outputId": "398e2ab9-31da-4e57-d5ac-1479207863da"
      },
      "execution_count": null,
      "outputs": [
        {
          "output_type": "execute_result",
          "data": {
            "text/plain": [
              "98.60000000000001"
            ]
          },
          "metadata": {},
          "execution_count": 66
        }
      ]
    },
    {
      "cell_type": "code",
      "source": [
        "max = lambda a,b : a if a>b else b #max no"
      ],
      "metadata": {
        "id": "Sm2LmlWhQouc"
      },
      "execution_count": null,
      "outputs": []
    },
    {
      "cell_type": "code",
      "source": [
        "max(10,3)"
      ],
      "metadata": {
        "colab": {
          "base_uri": "https://localhost:8080/"
        },
        "id": "vxIxwXI9RpyU",
        "outputId": "1aeaa18c-95c0-4f8c-eff2-51feac197b98"
      },
      "execution_count": null,
      "outputs": [
        {
          "output_type": "execute_result",
          "data": {
            "text/plain": [
              "10"
            ]
          },
          "metadata": {},
          "execution_count": 68
        }
      ]
    },
    {
      "cell_type": "code",
      "source": [
        "max(2,10)"
      ],
      "metadata": {
        "colab": {
          "base_uri": "https://localhost:8080/"
        },
        "id": "xayzxfDYRsW6",
        "outputId": "637691fd-b662-4d3a-d578-7c2a9710efbe"
      },
      "execution_count": null,
      "outputs": [
        {
          "output_type": "execute_result",
          "data": {
            "text/plain": [
              "10"
            ]
          },
          "metadata": {},
          "execution_count": 69
        }
      ]
    },
    {
      "cell_type": "code",
      "source": [
        "a = \"shrik\"\n",
        "len_st = lambda a : len(a) #length of string"
      ],
      "metadata": {
        "id": "8V9osPSyT39L"
      },
      "execution_count": null,
      "outputs": []
    },
    {
      "cell_type": "code",
      "source": [
        "len_st(a)"
      ],
      "metadata": {
        "id": "dMCenfHAT-yu",
        "colab": {
          "base_uri": "https://localhost:8080/"
        },
        "outputId": "29570f53-4154-4fee-f054-c430d0ac4193"
      },
      "execution_count": null,
      "outputs": [
        {
          "output_type": "execute_result",
          "data": {
            "text/plain": [
              "5"
            ]
          },
          "metadata": {},
          "execution_count": 5
        }
      ]
    },
    {
      "cell_type": "markdown",
      "source": [
        "***Map, Reduce and Filter functions***\n",
        "1). The map() function:\n",
        "The map() function or map and filter in Python (also called as map filter in Python) is a higher-order function. As previously stated, this function accepts another function and a sequence of ‘iterables’ as parameters and provides output after applying the function to each iterable in the sequence. It has the following syntax:\n",
        "\n",
        "SYNTAX: map(function, iterables)\n",
        "\n",
        "The function is used to define an expression which is then applied to the ‘iterables’. User-defined functions and lambda functions can both be sent to the map function.\n",
        "User-defined functions can be sent to the map() method. The user or programmer is the only one who can change the parameters of these functions"
      ],
      "metadata": {
        "id": "KDTk2pif8OxR"
      }
    },
    {
      "cell_type": "code",
      "source": [
        "#normal func to square each item in list - same can be done with the help of map function as below\n",
        "l1=[2,4,3,2,5]\n",
        "l2=[]\n",
        "def sq(l1):\n",
        "  for i in l1:\n",
        "    l2.append(i**2)\n",
        "  return l2"
      ],
      "metadata": {
        "id": "Y827DynK8Ntm"
      },
      "execution_count": null,
      "outputs": []
    },
    {
      "cell_type": "code",
      "source": [
        "sq(l1)"
      ],
      "metadata": {
        "colab": {
          "base_uri": "https://localhost:8080/"
        },
        "id": "OSwjcWjhAQSM",
        "outputId": "df5c0986-b372-49f9-b314-5528e14e6338"
      },
      "execution_count": null,
      "outputs": [
        {
          "output_type": "execute_result",
          "data": {
            "text/plain": [
              "[4, 16, 9, 4, 25]"
            ]
          },
          "metadata": {},
          "execution_count": 9
        }
      ]
    },
    {
      "cell_type": "code",
      "source": [
        "def sqr(a):\n",
        "  return a**2"
      ],
      "metadata": {
        "id": "EtybSMopBzi-"
      },
      "execution_count": null,
      "outputs": []
    },
    {
      "cell_type": "code",
      "source": [
        "# map func\n",
        "map(sqr,l1) #this will create mapper object  - passed external function"
      ],
      "metadata": {
        "colab": {
          "base_uri": "https://localhost:8080/"
        },
        "id": "aZ0YorScAayW",
        "outputId": "3cb89b18-c83d-4c22-bfee-c81abd465e90"
      },
      "execution_count": null,
      "outputs": [
        {
          "output_type": "execute_result",
          "data": {
            "text/plain": [
              "<map at 0x7f0a9c933190>"
            ]
          },
          "metadata": {},
          "execution_count": 18
        }
      ]
    },
    {
      "cell_type": "code",
      "source": [
        "list(map(sqr,l1)) #this will return the output since output need to store in list tuble as l1 is iterable"
      ],
      "metadata": {
        "colab": {
          "base_uri": "https://localhost:8080/"
        },
        "id": "SB9bEYTmCFOp",
        "outputId": "7162a07b-e750-4dd4-ac57-56bbc738fe76"
      },
      "execution_count": null,
      "outputs": [
        {
          "output_type": "execute_result",
          "data": {
            "text/plain": [
              "[4, 16, 9, 4, 25]"
            ]
          },
          "metadata": {},
          "execution_count": 20
        }
      ]
    },
    {
      "cell_type": "code",
      "source": [
        "list(map(lambda b : b**2,l1)) #lambda func as a function argument"
      ],
      "metadata": {
        "colab": {
          "base_uri": "https://localhost:8080/"
        },
        "id": "dDiF9168C6RB",
        "outputId": "89264a0b-0ac3-40d5-ce0f-7791271f6bb0"
      },
      "execution_count": null,
      "outputs": [
        {
          "output_type": "execute_result",
          "data": {
            "text/plain": [
              "[4, 16, 9, 4, 25]"
            ]
          },
          "metadata": {},
          "execution_count": 23
        }
      ]
    },
    {
      "cell_type": "code",
      "source": [
        "# add elements of list wrt their index numbers\n",
        "l3=[10,15,12,16]\n",
        "l4=[4,8,5,9]\n",
        "\n",
        "list(map(lambda x,y : x+y, l3,l4)) #no for loop need since map func iterates through iterable by default\n"
      ],
      "metadata": {
        "colab": {
          "base_uri": "https://localhost:8080/"
        },
        "id": "832r91fKDzvZ",
        "outputId": "1ec59186-fc6c-4bb8-c3d3-8e9a25e441ab"
      },
      "execution_count": null,
      "outputs": [
        {
          "output_type": "execute_result",
          "data": {
            "text/plain": [
              "[14, 23, 17, 25]"
            ]
          },
          "metadata": {},
          "execution_count": 25
        }
      ]
    },
    {
      "cell_type": "code",
      "source": [
        "f=lambda x,y : x+y\n",
        "\n",
        "list(map(f, l3,l4)) #another way - passing varibale as a function in which we have stored lambda func "
      ],
      "metadata": {
        "colab": {
          "base_uri": "https://localhost:8080/"
        },
        "id": "E4NVoIRqGcdT",
        "outputId": "499da77d-dead-4750-818c-d5d4d6626705"
      },
      "execution_count": null,
      "outputs": [
        {
          "output_type": "execute_result",
          "data": {
            "text/plain": [
              "[14, 23, 17, 25]"
            ]
          },
          "metadata": {},
          "execution_count": 27
        }
      ]
    },
    {
      "cell_type": "code",
      "source": [
        "s1=\"shrik\"\n",
        "list(map(lambda s1 : s1.upper(),s1))"
      ],
      "metadata": {
        "colab": {
          "base_uri": "https://localhost:8080/"
        },
        "id": "PGjQCv2VHVF5",
        "outputId": "45dfeb95-288d-4630-9d35-fa0bd637dae1"
      },
      "execution_count": null,
      "outputs": [
        {
          "output_type": "execute_result",
          "data": {
            "text/plain": [
              "['S', 'H', 'R', 'I', 'K']"
            ]
          },
          "metadata": {},
          "execution_count": 34
        }
      ]
    },
    {
      "cell_type": "markdown",
      "source": [
        "The reduce() function:\n",
        "\n",
        "The reduce() function applies a provided function to ‘iterables’ and returns a single value, as the name implies.\n",
        "\n",
        "SYNTAX: reduce(function, iterables)\n",
        "\n",
        "The function specifies which expression should be applied to the ‘iterables’ in this case. \n",
        "The function tools (functools) module must be used to import this function.\n",
        "\n",
        "reduce() function only take a func argument which is having only 2 arguments."
      ],
      "metadata": {
        "id": "2n_my3hsIbtR"
      }
    },
    {
      "cell_type": "code",
      "source": [
        "from functools import reduce"
      ],
      "metadata": {
        "id": "eTa6SLrkMBGW"
      },
      "execution_count": null,
      "outputs": []
    },
    {
      "cell_type": "code",
      "source": [
        "l4=[45,12,16,120] #summation of all itmes in a list\n",
        "\n",
        "reduce(lambda x,y : x+y, l4) #since its return a result in single value no need to create a list to store output "
      ],
      "metadata": {
        "colab": {
          "base_uri": "https://localhost:8080/"
        },
        "id": "BcAuitETMaRL",
        "outputId": "4cc161f5-8f46-454e-ca1b-f816c7a3caa2"
      },
      "execution_count": null,
      "outputs": [
        {
          "output_type": "execute_result",
          "data": {
            "text/plain": [
              "193"
            ]
          },
          "metadata": {},
          "execution_count": 37
        }
      ]
    },
    {
      "cell_type": "code",
      "source": [
        "reduce(lambda x,y : x+y, []) #it can not work if we pass empty iterable"
      ],
      "metadata": {
        "colab": {
          "base_uri": "https://localhost:8080/",
          "height": 165
        },
        "id": "QpM_VvSwNBiF",
        "outputId": "e4532aba-c4cb-417c-a16d-830124ad7e98"
      },
      "execution_count": null,
      "outputs": [
        {
          "output_type": "error",
          "ename": "TypeError",
          "evalue": "ignored",
          "traceback": [
            "\u001b[0;31m---------------------------------------------------------------------------\u001b[0m",
            "\u001b[0;31mTypeError\u001b[0m                                 Traceback (most recent call last)",
            "\u001b[0;32m<ipython-input-38-48e73c2119d4>\u001b[0m in \u001b[0;36m<module>\u001b[0;34m\u001b[0m\n\u001b[0;32m----> 1\u001b[0;31m \u001b[0mreduce\u001b[0m\u001b[0;34m(\u001b[0m\u001b[0;32mlambda\u001b[0m \u001b[0mx\u001b[0m\u001b[0;34m,\u001b[0m\u001b[0my\u001b[0m \u001b[0;34m:\u001b[0m \u001b[0mx\u001b[0m\u001b[0;34m+\u001b[0m\u001b[0my\u001b[0m\u001b[0;34m,\u001b[0m \u001b[0;34m[\u001b[0m\u001b[0;34m]\u001b[0m\u001b[0;34m)\u001b[0m\u001b[0;34m\u001b[0m\u001b[0;34m\u001b[0m\u001b[0m\n\u001b[0m",
            "\u001b[0;31mTypeError\u001b[0m: reduce() of empty sequence with no initial value"
          ]
        }
      ]
    },
    {
      "cell_type": "code",
      "source": [
        "reduce(lambda x,y : x+y, [2]) #it will work if you pass only one element in list - it consider y as 0 by default"
      ],
      "metadata": {
        "colab": {
          "base_uri": "https://localhost:8080/"
        },
        "id": "cKVwnzQ5ONA0",
        "outputId": "461bd8db-c017-48ee-f1d5-511a6bad2c2b"
      },
      "execution_count": null,
      "outputs": [
        {
          "output_type": "execute_result",
          "data": {
            "text/plain": [
              "2"
            ]
          },
          "metadata": {},
          "execution_count": 43
        }
      ]
    },
    {
      "cell_type": "code",
      "source": [
        "l5=[10,2,16,70,120,8] #max no\n",
        "reduce(lambda x,y : x if x>y else y, l5)"
      ],
      "metadata": {
        "colab": {
          "base_uri": "https://localhost:8080/"
        },
        "id": "BUVg3SW7Oy_5",
        "outputId": "d1632e3f-2841-4183-d39d-08947f95b2b0"
      },
      "execution_count": null,
      "outputs": [
        {
          "output_type": "execute_result",
          "data": {
            "text/plain": [
              "120"
            ]
          },
          "metadata": {},
          "execution_count": 45
        }
      ]
    },
    {
      "cell_type": "markdown",
      "source": [
        "The filter() function:\n",
        "\n",
        "The filter() function is used to generate an output list of values that return true when the function is called. It has the following syntax:\n",
        "\n",
        "SYNTAX: filter (function, iterables)\n",
        "\n",
        "This function like map(), can take user-defined functions and lambda functions as parameters.\n"
      ],
      "metadata": {
        "id": "ELgn2RysPXAZ"
      }
    },
    {
      "cell_type": "code",
      "source": [
        "l6=[10,15,12,84,125,12,6,2,3,10,5,7] #find out even no from list\n",
        "list(filter(lambda x : x%2==0, l6))"
      ],
      "metadata": {
        "colab": {
          "base_uri": "https://localhost:8080/"
        },
        "id": "5Vw3qwhOPwe0",
        "outputId": "d461f3d6-42b0-411b-c125-a4e19b03cb9e"
      },
      "execution_count": null,
      "outputs": [
        {
          "output_type": "execute_result",
          "data": {
            "text/plain": [
              "[10, 12, 84, 12, 6, 2, 10]"
            ]
          },
          "metadata": {},
          "execution_count": 51
        }
      ]
    },
    {
      "cell_type": "code",
      "source": [
        "list(filter(lambda x : x%2!=0, l6)) #find out odd no from list"
      ],
      "metadata": {
        "colab": {
          "base_uri": "https://localhost:8080/"
        },
        "id": "Usm8NKuDQeOS",
        "outputId": "68a4174b-8af9-465d-c1ef-0e9f6a7b49ba"
      },
      "execution_count": null,
      "outputs": [
        {
          "output_type": "execute_result",
          "data": {
            "text/plain": [
              "[15, 125, 3, 5, 7]"
            ]
          },
          "metadata": {},
          "execution_count": 54
        }
      ]
    },
    {
      "cell_type": "code",
      "source": [
        "list(filter(lambda x : x>10, l6)) #greater than 10"
      ],
      "metadata": {
        "colab": {
          "base_uri": "https://localhost:8080/"
        },
        "id": "i_soSaCfQrKV",
        "outputId": "0b0262ca-94a8-4cde-b8ee-c8c9b7136a77"
      },
      "execution_count": null,
      "outputs": [
        {
          "output_type": "execute_result",
          "data": {
            "text/plain": [
              "[15, 12, 84, 125, 12]"
            ]
          },
          "metadata": {},
          "execution_count": 57
        }
      ]
    },
    {
      "cell_type": "code",
      "source": [
        "l7=[10,15,-12,84,-125,12,6,-2,3,10,-5,7]"
      ],
      "metadata": {
        "id": "5B39QrE4Qyj_"
      },
      "execution_count": null,
      "outputs": []
    },
    {
      "cell_type": "code",
      "source": [
        "list(filter(lambda x : x<0, l7)) #-ve numbers"
      ],
      "metadata": {
        "colab": {
          "base_uri": "https://localhost:8080/"
        },
        "id": "6qLKupwdQ5Ia",
        "outputId": "71bab23a-19e0-407c-d1e7-78c165e30000"
      },
      "execution_count": null,
      "outputs": [
        {
          "output_type": "execute_result",
          "data": {
            "text/plain": [
              "[-12, -125, -2, -5]"
            ]
          },
          "metadata": {},
          "execution_count": 61
        }
      ]
    },
    {
      "cell_type": "code",
      "source": [
        "l8=[\"shriks\",\"ovaa\",\"john\",\"jenifer\",\"pwskills\",\"ineuron\", \"shrik\"]\n"
      ],
      "metadata": {
        "id": "TdB7RQyKRItb"
      },
      "execution_count": null,
      "outputs": []
    },
    {
      "cell_type": "code",
      "source": [
        "list(filter(lambda x : len(x)<5,l8)) #string wiht less than 5 length"
      ],
      "metadata": {
        "colab": {
          "base_uri": "https://localhost:8080/"
        },
        "id": "fS1gVNFVRZyq",
        "outputId": "013da8c9-1f85-4828-fcb9-6baa5cc4a142"
      },
      "execution_count": null,
      "outputs": [
        {
          "output_type": "execute_result",
          "data": {
            "text/plain": [
              "['ovaa', 'john']"
            ]
          },
          "metadata": {},
          "execution_count": 69
        }
      ]
    }
  ]
}
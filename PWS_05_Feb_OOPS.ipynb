{
  "nbformat": 4,
  "nbformat_minor": 0,
  "metadata": {
    "colab": {
      "provenance": [],
      "authorship_tag": "ABX9TyOpZiFz8zOHaXdXlGsfXKjc",
      "include_colab_link": true
    },
    "kernelspec": {
      "name": "python3",
      "display_name": "Python 3"
    },
    "language_info": {
      "name": "python"
    }
  },
  "cells": [
    {
      "cell_type": "markdown",
      "metadata": {
        "id": "view-in-github",
        "colab_type": "text"
      },
      "source": [
        "<a href=\"https://colab.research.google.com/github/ShrikantBKumbhar/shrikx_datasci/blob/main/PWS_05_Feb_OOPS.ipynb\" target=\"_parent\"><img src=\"https://colab.research.google.com/assets/colab-badge.svg\" alt=\"Open In Colab\"/></a>"
      ]
    },
    {
      "cell_type": "markdown",
      "source": [
        "[OOP Documentation](https://www.analyticsvidhya.com/blog/2020/09/object-oriented-programming/)\n",
        "\n",
        "OOP is all about creating “objects.” An object is a group of interrelated variables and functions. These variables are often referred to as properties of the object, and functions are referred to as the behavior of the objects. These objects provide a better and clear structure for the program.\n",
        "\n",
        "-Almost everything in Python is an object, with its properties and methods.\n",
        "\n",
        "-A Class is like an object constructor, or a \"blueprint\" for creating objects.\n",
        "\n",
        "-Unlike primitive data structures, classes are data structures that the user defines. They make the code more manageable.\n",
        "\n",
        "-Code: Reuse, maintainable, clean\n",
        "\n",
        "-With self pointer class will able to understand this method or function belongs to me \n",
        "\n",
        "-'self' represents the instance of the class. By using the “self”  we can access the attributes and methods of the class in python. It binds the attributes with the given arguments.\n",
        "\n",
        "\n"
      ],
      "metadata": {
        "id": "fFCrVZWwmDUd"
      }
    },
    {
      "cell_type": "code",
      "execution_count": null,
      "metadata": {
        "id": "g4GkOx-OgNFB"
      },
      "outputs": [],
      "source": [
        "class Test: #class keyword is used to create class and end with colon :\n",
        "  pass"
      ]
    },
    {
      "cell_type": "code",
      "source": [
        "a = Test() #a is a variable of a class which is object of a class"
      ],
      "metadata": {
        "id": "Kd__N2JTrzjn"
      },
      "execution_count": null,
      "outputs": []
    },
    {
      "cell_type": "code",
      "source": [
        "type(a) #type of a is .Test which is class - i.e a belongs to class Test"
      ],
      "metadata": {
        "colab": {
          "base_uri": "https://localhost:8080/"
        },
        "id": "JiL_THIQ-DGm",
        "outputId": "d85acfef-003d-4ec0-d45c-55dd49820386"
      },
      "execution_count": null,
      "outputs": [
        {
          "output_type": "execute_result",
          "data": {
            "text/plain": [
              "__main__.Test"
            ]
          },
          "metadata": {},
          "execution_count": 30
        }
      ]
    },
    {
      "cell_type": "code",
      "source": [
        "print(type(a)) # a belongs to class Test as o/p shown and a is called as object"
      ],
      "metadata": {
        "colab": {
          "base_uri": "https://localhost:8080/"
        },
        "id": "eVvK7-f_-MGW",
        "outputId": "6050b37e-f874-4deb-9cb5-8cd9ab602bab"
      },
      "execution_count": null,
      "outputs": [
        {
          "output_type": "stream",
          "name": "stdout",
          "text": [
            "<class '__main__.Test'>\n"
          ]
        }
      ]
    },
    {
      "cell_type": "code",
      "source": [
        "class test:\n",
        "\n",
        "  def welcome(self): #'self' represents the instance of the class. By using the “self”  we can access the attributes and methods of the class in python. It binds the attributes with the given arguments.\n",
        "    print(\"Welcome to class\")"
      ],
      "metadata": {
        "id": "wrvVc78q-moC"
      },
      "execution_count": null,
      "outputs": []
    },
    {
      "cell_type": "code",
      "source": [
        "shrik=test() #shrik is a object"
      ],
      "metadata": {
        "id": "oO9vFXcw_-la"
      },
      "execution_count": null,
      "outputs": []
    },
    {
      "cell_type": "code",
      "source": [
        "shrik.welcome() "
      ],
      "metadata": {
        "colab": {
          "base_uri": "https://localhost:8080/"
        },
        "id": "nmfNy34YAEMW",
        "outputId": "f097c03e-909e-46ad-9f02-0a73065336b7"
      },
      "execution_count": null,
      "outputs": [
        {
          "output_type": "stream",
          "name": "stdout",
          "text": [
            "Welcome to class\n"
          ]
        }
      ]
    },
    {
      "cell_type": "code",
      "source": [
        "john=test() #we can create any no of objects"
      ],
      "metadata": {
        "id": "XMBQ_SYmD8WK"
      },
      "execution_count": null,
      "outputs": []
    },
    {
      "cell_type": "code",
      "source": [
        "john.welcome()"
      ],
      "metadata": {
        "colab": {
          "base_uri": "https://localhost:8080/"
        },
        "id": "iwV4SWo7EAIW",
        "outputId": "176b3289-449c-4d59-fca6-2866540cf5e8"
      },
      "execution_count": null,
      "outputs": [
        {
          "output_type": "stream",
          "name": "stdout",
          "text": [
            "Welcome to class\n"
          ]
        }
      ]
    },
    {
      "cell_type": "code",
      "source": [
        "# __init__ method - it is a constructor which help class to take data input to a class like we assigne value to a variable a=1\n",
        "# Use the __init__() function to assign values to object properties, or other operations that are necessary to do when the object is being created:\n",
        "class student:\n",
        "  \n",
        "  def __init__(self, name, role_no): #each and every function in class, very first argument will be self.\n",
        "\n",
        "    self.name = name\n",
        "    self.role_no = role_no\n",
        "  \n",
        "  def student_details(self):\n",
        "    return self.name, self.role_no #inside the class, data variable can be accessed with the help of self.argument_name"
      ],
      "metadata": {
        "id": "4K1kLa0wEdms"
      },
      "execution_count": null,
      "outputs": []
    },
    {
      "cell_type": "code",
      "source": [
        "s1=student(\"ovaa\",5) #this data will go to __init_ method and self.name and self.role_no and then data will passed to the class student"
      ],
      "metadata": {
        "id": "g5Xlm1juIxsR"
      },
      "execution_count": null,
      "outputs": []
    },
    {
      "cell_type": "code",
      "source": [
        "s1.student_details()"
      ],
      "metadata": {
        "colab": {
          "base_uri": "https://localhost:8080/"
        },
        "id": "Rsa_-j1IJdzn",
        "outputId": "83f2a6c5-20ef-41a7-e4b9-e3bb0ab21832"
      },
      "execution_count": null,
      "outputs": [
        {
          "output_type": "execute_result",
          "data": {
            "text/plain": [
              "('ovaa', 5)"
            ]
          },
          "metadata": {},
          "execution_count": 48
        }
      ]
    },
    {
      "cell_type": "code",
      "source": [
        "s1.name #data can be accessed outside the class with the help of objcect of that class"
      ],
      "metadata": {
        "colab": {
          "base_uri": "https://localhost:8080/",
          "height": 36
        },
        "id": "rSIy7JYrLSsK",
        "outputId": "86878cfe-9b33-44ff-9121-d985bd717048"
      },
      "execution_count": null,
      "outputs": [
        {
          "output_type": "execute_result",
          "data": {
            "text/plain": [
              "'ovaa'"
            ],
            "application/vnd.google.colaboratory.intrinsic+json": {
              "type": "string"
            }
          },
          "metadata": {},
          "execution_count": 52
        }
      ]
    },
    {
      "cell_type": "code",
      "source": [
        "s1.role_no"
      ],
      "metadata": {
        "colab": {
          "base_uri": "https://localhost:8080/"
        },
        "id": "Y3FCSst_LjWU",
        "outputId": "87c78c09-e9ea-4281-ad24-d766d7624135"
      },
      "execution_count": null,
      "outputs": [
        {
          "output_type": "execute_result",
          "data": {
            "text/plain": [
              "5"
            ]
          },
          "metadata": {},
          "execution_count": 55
        }
      ]
    },
    {
      "cell_type": "code",
      "source": [
        "s2=student(\"Shreya\", 4061)"
      ],
      "metadata": {
        "id": "XHogtUtmNFHL"
      },
      "execution_count": null,
      "outputs": []
    },
    {
      "cell_type": "code",
      "source": [
        "s2.role_no"
      ],
      "metadata": {
        "colab": {
          "base_uri": "https://localhost:8080/"
        },
        "id": "wsrHP1hONNh5",
        "outputId": "08075dc9-a609-4b84-e2b0-e572b8137ba1"
      },
      "execution_count": null,
      "outputs": [
        {
          "output_type": "execute_result",
          "data": {
            "text/plain": [
              "4061"
            ]
          },
          "metadata": {},
          "execution_count": 58
        }
      ]
    },
    {
      "cell_type": "code",
      "source": [
        "s2.name"
      ],
      "metadata": {
        "colab": {
          "base_uri": "https://localhost:8080/",
          "height": 36
        },
        "id": "DcM_9GqBNQC4",
        "outputId": "6499ad7b-4647-4aab-b4a2-7ef046045886"
      },
      "execution_count": null,
      "outputs": [
        {
          "output_type": "execute_result",
          "data": {
            "text/plain": [
              "'Shreya'"
            ],
            "application/vnd.google.colaboratory.intrinsic+json": {
              "type": "string"
            }
          },
          "metadata": {},
          "execution_count": 59
        }
      ]
    },
    {
      "cell_type": "code",
      "source": [
        "s2.student_details()"
      ],
      "metadata": {
        "colab": {
          "base_uri": "https://localhost:8080/"
        },
        "id": "SNylKDwfNR--",
        "outputId": "fcf77c7f-ac7a-4f77-b402-18ef4bc2e0d8"
      },
      "execution_count": null,
      "outputs": [
        {
          "output_type": "execute_result",
          "data": {
            "text/plain": [
              "('Shreya', 4061)"
            ]
          },
          "metadata": {},
          "execution_count": 61
        }
      ]
    },
    {
      "cell_type": "code",
      "source": [
        "class teacher:\n",
        "  \n",
        "  def __init__(shrik, name, phone_no): #instead of self we can use any name as first argument.\n",
        "\n",
        "    shrik.name = name\n",
        "    shrik.phone_no = phone_no\n",
        "  \n",
        "  def teacher_details(self):\n",
        "    return shrik.name, shrik.phone_no"
      ],
      "metadata": {
        "id": "mmi8y8nePJDc"
      },
      "execution_count": null,
      "outputs": []
    },
    {
      "cell_type": "code",
      "source": [
        "t=teacher(\"punam\",8250585562)"
      ],
      "metadata": {
        "id": "UnZaXUrePrcd"
      },
      "execution_count": null,
      "outputs": []
    },
    {
      "cell_type": "code",
      "source": [
        "t.name"
      ],
      "metadata": {
        "colab": {
          "base_uri": "https://localhost:8080/",
          "height": 36
        },
        "id": "iDlsfsnePyam",
        "outputId": "65d1fa35-16bc-4794-c8ee-9be63c361fc8"
      },
      "execution_count": null,
      "outputs": [
        {
          "output_type": "execute_result",
          "data": {
            "text/plain": [
              "'punam'"
            ],
            "application/vnd.google.colaboratory.intrinsic+json": {
              "type": "string"
            }
          },
          "metadata": {},
          "execution_count": 68
        }
      ]
    },
    {
      "cell_type": "code",
      "source": [
        "t.phone_no"
      ],
      "metadata": {
        "colab": {
          "base_uri": "https://localhost:8080/"
        },
        "id": "tbZWlP3EP1_h",
        "outputId": "b4128f36-144c-45d9-9254-b602e2520c36"
      },
      "execution_count": null,
      "outputs": [
        {
          "output_type": "execute_result",
          "data": {
            "text/plain": [
              "8250585562"
            ]
          },
          "metadata": {},
          "execution_count": 70
        }
      ]
    }
  ]
}
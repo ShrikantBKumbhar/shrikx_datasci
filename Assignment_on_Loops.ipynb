{
  "nbformat": 4,
  "nbformat_minor": 0,
  "metadata": {
    "colab": {
      "provenance": [],
      "collapsed_sections": []
    },
    "kernelspec": {
      "name": "python3",
      "display_name": "Python 3"
    },
    "language_info": {
      "name": "python"
    }
  },
  "cells": [
    {
      "cell_type": "markdown",
      "source": [
        "Write a program which accepts month's name as input and display the number of days in the month as output "
      ],
      "metadata": {
        "id": "MdAkQQ_Y4wwG"
      }
    },
    {
      "cell_type": "code",
      "source": [
        "d_31=['January', 'March', 'May', 'July', 'August', 'October', 'December']\n",
        "d_30=['April', 'June', 'September', 'November']\n",
        "d_28=['February']\n",
        "\n",
        "mon=str(input('Enter month name: '))\n",
        "\n",
        "if  mon in d_31:\n",
        "  print(mon, 'has no of days 31')\n",
        "\n",
        "elif mon in d_30:\n",
        "  print(mon, 'has no of days 30')  \n",
        "\n",
        "elif mon in d_28:\n",
        "  print(mon, 'has no of days 28/29')\n",
        "else: \n",
        "  print('Error')  "
      ],
      "metadata": {
        "id": "Wy7YDWmc7jML",
        "colab": {
          "base_uri": "https://localhost:8080/"
        },
        "outputId": "ca4d76a2-f87d-4749-f10f-db5f044c099d"
      },
      "execution_count": null,
      "outputs": [
        {
          "output_type": "stream",
          "name": "stdout",
          "text": [
            "Enter month name: march\n",
            "Error\n"
          ]
        }
      ]
    },
    {
      "cell_type": "markdown",
      "source": [
        "\n",
        "Take any word as input from the user and count the number of vowels in the word"
      ],
      "metadata": {
        "id": "Q8cCBC198J6M"
      }
    },
    {
      "cell_type": "code",
      "source": [
        "word=str(input('Enter any word: '))\n",
        "vowels=['a','e','i','o','u']\n",
        "count=0\n",
        "for i in vowels:\n",
        " if i in word:\n",
        "  count=count+1\n",
        "print('No of vowels in entered word : ',count)"
      ],
      "metadata": {
        "id": "gY_oIsw88KU6",
        "colab": {
          "base_uri": "https://localhost:8080/"
        },
        "outputId": "15c3f869-d7f0-4c16-93ee-b1e8a0a02e4e"
      },
      "execution_count": null,
      "outputs": [
        {
          "output_type": "stream",
          "name": "stdout",
          "text": [
            "Enter any word: ravi\n",
            "No of vowels in entered word :  2\n"
          ]
        }
      ]
    },
    {
      "cell_type": "markdown",
      "source": [
        "Write a program to separate even and odd numbers in two distinct lists from a list of numbers of your choice "
      ],
      "metadata": {
        "id": "1ugWwVXd49OI"
      }
    },
    {
      "cell_type": "code",
      "source": [
        "num_list=[10,12,18,126,18,19,31,15,17,16,12,]\n",
        "even=[] #empty list to store even nos\n",
        "odd=[] #empty list to store odd nos\n",
        "\n",
        "for i in num:\n",
        "  if i%2==0:\n",
        "    even.append(i)\n",
        "  else:\n",
        "    odd.append(i)\n",
        "\n",
        "print('Even numbers are: ', even)\n",
        "print('Odd numbers are: ', odd)"
      ],
      "metadata": {
        "id": "dP7_bUh37i2D",
        "colab": {
          "base_uri": "https://localhost:8080/"
        },
        "outputId": "6badd86e-c282-4782-c737-287a977b6b44"
      },
      "execution_count": null,
      "outputs": [
        {
          "output_type": "stream",
          "name": "stdout",
          "text": [
            "Even numbers are:  [10, 12, 18, 126, 18, 16, 12]\n",
            "Odd numbers are:  [19, 31, 15, 17]\n"
          ]
        }
      ]
    },
    {
      "cell_type": "markdown",
      "source": [
        "Write a program that appends datatype of elements from a list to a separate list"
      ],
      "metadata": {
        "id": "uaqnGrhs49Mf"
      }
    },
    {
      "cell_type": "code",
      "source": [
        "list1=['shri',2,2.15,'a',100,50.7]\n",
        "list2=[]\n",
        "for i in list1:\n",
        "  \n",
        "  list2.append(type(i))\n",
        "print('Data type of list elements: ', list2)\n"
      ],
      "metadata": {
        "id": "RH9DVuFT7ibC",
        "colab": {
          "base_uri": "https://localhost:8080/"
        },
        "outputId": "efa532a0-36ac-4115-9e2a-8bd948130a53"
      },
      "execution_count": 41,
      "outputs": [
        {
          "output_type": "stream",
          "name": "stdout",
          "text": [
            "Data type of list elements:  [<class 'str'>, <class 'int'>, <class 'float'>, <class 'str'>, <class 'int'>, <class 'float'>]\n"
          ]
        }
      ]
    },
    {
      "cell_type": "markdown",
      "source": [
        "Take a number as input from the user and find its factorial"
      ],
      "metadata": {
        "id": "qhUdGd6s4837"
      }
    },
    {
      "cell_type": "code",
      "source": [
        "fact=int(input('Enter any no to find its factorial: '))\n",
        "a=1\n",
        "while fact>0:\n",
        " a=a*fact\n",
        " fact=fact-1\n",
        " \n",
        "print(a)"
      ],
      "metadata": {
        "id": "ga1yDKM87iJa",
        "colab": {
          "base_uri": "https://localhost:8080/"
        },
        "outputId": "8933107a-57ce-4dd1-e814-b52fcac0fc37"
      },
      "execution_count": null,
      "outputs": [
        {
          "output_type": "stream",
          "name": "stdout",
          "text": [
            "Enter any no to find its factorial: 10\n",
            "3628800\n"
          ]
        }
      ]
    },
    {
      "cell_type": "markdown",
      "source": [
        "Write a program to display only those numbers from a list that satisfies the following conditions:\n",
        "\n",
        "1. The number must be divisible by 7\n",
        "\n",
        "2. If the number is greater than 140 then skip it and move to the next number in the list\n",
        "\n",
        "3. If the number in the list is greater than 630 then stop the loop"
      ],
      "metadata": {
        "id": "ddMu0Pj1643Y"
      }
    },
    {
      "cell_type": "code",
      "execution_count": 54,
      "metadata": {
        "id": "QxFeRtW34rJV",
        "colab": {
          "base_uri": "https://localhost:8080/"
        },
        "outputId": "f1aefb2c-49c9-45d0-a804-60ffe5060cd5"
      },
      "outputs": [
        {
          "output_type": "stream",
          "name": "stdout",
          "text": [
            "21\n",
            "49\n",
            "7\n",
            "70\n"
          ]
        }
      ],
      "source": [
        "l1=[21,64,150,200,210,350,480,50,49,188,440,560,458,78,7,46,70,650,28,35,10,184,146,172,750]\n",
        "for i in l1:\n",
        "  if i%7==0:\n",
        "    if i>140:\n",
        "     continue\n",
        "    print(i)\n",
        "  if i>630:\n",
        "     break\n"
      ]
    }
  ]
}
{
  "nbformat": 4,
  "nbformat_minor": 0,
  "metadata": {
    "colab": {
      "provenance": [],
      "authorship_tag": "ABX9TyOjcm2j85hT7fkjLri8FZpR",
      "include_colab_link": true
    },
    "kernelspec": {
      "name": "python3",
      "display_name": "Python 3"
    },
    "language_info": {
      "name": "python"
    }
  },
  "cells": [
    {
      "cell_type": "markdown",
      "metadata": {
        "id": "view-in-github",
        "colab_type": "text"
      },
      "source": [
        "<a href=\"https://colab.research.google.com/github/ShrikantBKumbhar/shrikx_datasci/blob/main/PWSi_08_Feb_Polymorphism_Encapsulation_Inheritance.ipynb\" target=\"_parent\"><img src=\"https://colab.research.google.com/assets/colab-badge.svg\" alt=\"Open In Colab\"/></a>"
      ]
    },
    {
      "cell_type": "markdown",
      "source": [
        "Polymorphism: Multiple forms/state \n",
        "\n",
        "The word polymorphism means having many forms. In programming, polymorphism means the same function name (but different signatures) being used for different types.\n",
        "\n",
        "The key difference is the data types and number of arguments used in function."
      ],
      "metadata": {
        "id": "PT10VjmBJpmk"
      }
    },
    {
      "cell_type": "code",
      "execution_count": 51,
      "metadata": {
        "id": "xSykgacXJizp"
      },
      "outputs": [],
      "source": [
        "def test(a,b):\n",
        "  return a+b"
      ]
    },
    {
      "cell_type": "code",
      "source": [
        "test(10,10) #func used to add integer numbers datatype as arguments - addition operation"
      ],
      "metadata": {
        "colab": {
          "base_uri": "https://localhost:8080/"
        },
        "id": "Mk0ZMorgKCyo",
        "outputId": "2a6e094f-b2e7-4f47-a239-c383238a0951"
      },
      "execution_count": 52,
      "outputs": [
        {
          "output_type": "execute_result",
          "data": {
            "text/plain": [
              "20"
            ]
          },
          "metadata": {},
          "execution_count": 52
        }
      ]
    },
    {
      "cell_type": "code",
      "source": [
        "test('john', ' smith') #same func used with diff data type arguments - concatenate operation on string - so we can say this func is example of polymorphism"
      ],
      "metadata": {
        "colab": {
          "base_uri": "https://localhost:8080/",
          "height": 36
        },
        "id": "4LVH4b1kKZuh",
        "outputId": "d7a47094-4533-4d5f-c94c-4f72319dbb70"
      },
      "execution_count": 53,
      "outputs": [
        {
          "output_type": "execute_result",
          "data": {
            "text/plain": [
              "'john smith'"
            ],
            "application/vnd.google.colaboratory.intrinsic+json": {
              "type": "string"
            }
          },
          "metadata": {},
          "execution_count": 53
        }
      ]
    },
    {
      "cell_type": "code",
      "source": [
        "test([1,2,3],[4,5,6]) #same with list as argument - concatenate operation on list"
      ],
      "metadata": {
        "colab": {
          "base_uri": "https://localhost:8080/"
        },
        "id": "cnOOXocQLC0t",
        "outputId": "6ce2b431-9f9b-4a28-837e-48fea65a4a24"
      },
      "execution_count": 54,
      "outputs": [
        {
          "output_type": "execute_result",
          "data": {
            "text/plain": [
              "[1, 2, 3, 4, 5, 6]"
            ]
          },
          "metadata": {},
          "execution_count": 54
        }
      ]
    },
    {
      "cell_type": "code",
      "source": [
        "#class1 with same method\n",
        "class data:\n",
        "  def syllabus(self):\n",
        "    print('This is my method for DS syllabus')"
      ],
      "metadata": {
        "id": "q7Y8WPLNLP-4"
      },
      "execution_count": 55,
      "outputs": []
    },
    {
      "cell_type": "code",
      "source": [
        "#class2 with same method\n",
        "class dsa:\n",
        "  def syllabus(self):\n",
        "    print(\"This is method fo DSA syllabus\")"
      ],
      "metadata": {
        "id": "xp3VhNMwa7SY"
      },
      "execution_count": 56,
      "outputs": []
    },
    {
      "cell_type": "code",
      "source": [
        "#external function\n",
        "def class_parcer(class_obj):\n",
        "  for i in class_obj:\n",
        "      i.syllabus()"
      ],
      "metadata": {
        "id": "ENig6b1JbQz1"
      },
      "execution_count": 57,
      "outputs": []
    },
    {
      "cell_type": "code",
      "source": [
        "obj_data=data() #object of class data"
      ],
      "metadata": {
        "id": "TQVbTMeSbxME"
      },
      "execution_count": 58,
      "outputs": []
    },
    {
      "cell_type": "code",
      "source": [
        "obj_dsa=dsa() #object of class dsa"
      ],
      "metadata": {
        "id": "mkKIaJhzbz9X"
      },
      "execution_count": 59,
      "outputs": []
    },
    {
      "cell_type": "code",
      "source": [
        "class_obj = [obj_data , obj_dsa] #store both the objects in a class_parcer argument class_ojb as a list"
      ],
      "metadata": {
        "id": "_flRXHPbclKG"
      },
      "execution_count": 60,
      "outputs": []
    },
    {
      "cell_type": "code",
      "source": [
        "class_parcer(class_obj) #pass object list as argument to external method class_parcer - This way polyorphism can be achived in OOPS concept"
      ],
      "metadata": {
        "colab": {
          "base_uri": "https://localhost:8080/"
        },
        "id": "dszQ8z_dc4ZR",
        "outputId": "fbfc52b4-7199-4bfb-8d32-8c4958f6c26a"
      },
      "execution_count": 61,
      "outputs": [
        {
          "output_type": "stream",
          "name": "stdout",
          "text": [
            "This is my method for DS syllabus\n",
            "This is method fo DSA syllabus\n"
          ]
        }
      ]
    },
    {
      "cell_type": "code",
      "source": [
        "name=\"Ravindra\"\n",
        "print(name[:4:2])"
      ],
      "metadata": {
        "colab": {
          "base_uri": "https://localhost:8080/"
        },
        "id": "buJqJguPL9qt",
        "outputId": "e5dcc04f-60aa-4a23-e48a-00be84ba3e3d"
      },
      "execution_count": 62,
      "outputs": [
        {
          "output_type": "stream",
          "name": "stdout",
          "text": [
            "Rv\n"
          ]
        }
      ]
    },
    {
      "cell_type": "markdown",
      "source": [
        "Encapsulation:\n",
        "\n",
        "Encapsulation is used to restrict access to methods and variables. In encapsulation, code and data are wrapped together within a single unit from being modified by accident.\n",
        "\n",
        "To prevent accidental change, an object’s variable can only be changed by an object’s method. Those types of variables are known as private variables.\n",
        "\n",
        "A class is an example of encapsulation as it encapsulates all the data that is member functions, variables, etc. The goal of information hiding is to ensure that an object’s state is always valid by controlling access to attributes that are hidden from the outside world.\n",
        "\n",
        "Protected members: Protected members (in C++ and JAVA) are those members of the class that cannot be accessed outside the class but can be accessed from within the class and its subclasses. To accomplish this in Python, just follow the convention by prefixing the name of the member by a single underscore “_”.\n",
        "\n",
        "Private members: Private members are similar to protected members, the difference is that the class members declared private should neither be accessed outside the class nor by any base class. In Python, there is no existence of Private instance variables that cannot be accessed except inside a class.\n",
        "However, to define a private member prefix the member name with double underscore “__”."
      ],
      "metadata": {
        "id": "IWvGLPVpS20H"
      }
    },
    {
      "cell_type": "code",
      "source": [
        "class test2:\n",
        "  def __init__(self, a,b):\n",
        "    self.a = a #public variables\n",
        "    self.b = b #public variables"
      ],
      "metadata": {
        "id": "bAi22FZfW3iw"
      },
      "execution_count": 63,
      "outputs": []
    },
    {
      "cell_type": "code",
      "source": [
        "t = test2(1,2)"
      ],
      "metadata": {
        "id": "8qrClYDQeUI2"
      },
      "execution_count": 64,
      "outputs": []
    },
    {
      "cell_type": "code",
      "source": [
        "t.a #able to access variable"
      ],
      "metadata": {
        "colab": {
          "base_uri": "https://localhost:8080/"
        },
        "id": "PuYWlEL3e0vk",
        "outputId": "bf4d7b26-66d4-46e2-80d8-51e26e4f0b55"
      },
      "execution_count": 65,
      "outputs": [
        {
          "output_type": "execute_result",
          "data": {
            "text/plain": [
              "1"
            ]
          },
          "metadata": {},
          "execution_count": 65
        }
      ]
    },
    {
      "cell_type": "code",
      "source": [
        "t.b #able to access variable"
      ],
      "metadata": {
        "colab": {
          "base_uri": "https://localhost:8080/"
        },
        "id": "lc4LERZ2fCET",
        "outputId": "c6c68c5b-747e-477a-ab6f-cd683d277555"
      },
      "execution_count": 66,
      "outputs": [
        {
          "output_type": "execute_result",
          "data": {
            "text/plain": [
              "2"
            ]
          },
          "metadata": {},
          "execution_count": 66
        }
      ]
    },
    {
      "cell_type": "code",
      "source": [
        "t.a=10 # assign new value to a variable 'a' "
      ],
      "metadata": {
        "id": "fStwA6J0fJ0X"
      },
      "execution_count": 67,
      "outputs": []
    },
    {
      "cell_type": "code",
      "source": [
        "t.a #we can able to assigne and change the value - this is very dangerous - and to restrict this encapsulation concept is used"
      ],
      "metadata": {
        "colab": {
          "base_uri": "https://localhost:8080/"
        },
        "id": "TURql9crfTKo",
        "outputId": "a36ef08d-043c-431f-a897-e3b3f8c6d859"
      },
      "execution_count": 68,
      "outputs": [
        {
          "output_type": "execute_result",
          "data": {
            "text/plain": [
              "10"
            ]
          },
          "metadata": {},
          "execution_count": 68
        }
      ]
    },
    {
      "cell_type": "code",
      "source": [
        "#see how encapsulation done\n",
        "class Car:\n",
        "\n",
        "  def __init__(self, year, make, model, speed):\n",
        "    self.__year=year # prefix '__' double underscore in 'year' variable represents private member\n",
        "    self.__make=make\n",
        "    self.__model=model\n",
        "    self.__speed=speed"
      ],
      "metadata": {
        "id": "NefELYo-gGNm"
      },
      "execution_count": 69,
      "outputs": []
    },
    {
      "cell_type": "code",
      "source": [
        "obj_car = Car(2021,\"maruti\",\"brezza\",11) #object creation"
      ],
      "metadata": {
        "id": "YhKI8spAgLcW"
      },
      "execution_count": 70,
      "outputs": []
    },
    {
      "cell_type": "code",
      "source": [
        "obj_car.__year #not able to access class variable directly since its declared as private with the help of object created"
      ],
      "metadata": {
        "colab": {
          "base_uri": "https://localhost:8080/",
          "height": 165
        },
        "id": "QmtVLynbkDYn",
        "outputId": "9474cbb3-8e43-45bf-b894-5c189b3ea56f"
      },
      "execution_count": 71,
      "outputs": [
        {
          "output_type": "error",
          "ename": "AttributeError",
          "evalue": "ignored",
          "traceback": [
            "\u001b[0;31m---------------------------------------------------------------------------\u001b[0m",
            "\u001b[0;31mAttributeError\u001b[0m                            Traceback (most recent call last)",
            "\u001b[0;32m<ipython-input-71-f895715621f4>\u001b[0m in \u001b[0;36m<module>\u001b[0;34m\u001b[0m\n\u001b[0;32m----> 1\u001b[0;31m \u001b[0mobj_car\u001b[0m\u001b[0;34m.\u001b[0m\u001b[0m__year\u001b[0m \u001b[0;31m#not able to access class variable directly since its declared as private with the help of object created\u001b[0m\u001b[0;34m\u001b[0m\u001b[0;34m\u001b[0m\u001b[0m\n\u001b[0m",
            "\u001b[0;31mAttributeError\u001b[0m: 'Car' object has no attribute '__year'"
          ]
        }
      ]
    },
    {
      "cell_type": "code",
      "source": [
        "obj_car._Car__year # _class_name need to prefix before class variable to access the class variable"
      ],
      "metadata": {
        "colab": {
          "base_uri": "https://localhost:8080/"
        },
        "id": "jVCelnTVlgEa",
        "outputId": "d6a40a99-de8a-4488-dadf-b7db4e6e03a2"
      },
      "execution_count": 72,
      "outputs": [
        {
          "output_type": "execute_result",
          "data": {
            "text/plain": [
              "2021"
            ]
          },
          "metadata": {},
          "execution_count": 72
        }
      ]
    },
    {
      "cell_type": "code",
      "source": [
        "obj_car._Car__year=2023 #as a creater of class you can able to access and modify the variable but external user can not do this"
      ],
      "metadata": {
        "id": "Gpq8oWn8mjdl"
      },
      "execution_count": 74,
      "outputs": []
    },
    {
      "cell_type": "code",
      "source": [
        "obj_car._Car__year"
      ],
      "metadata": {
        "colab": {
          "base_uri": "https://localhost:8080/"
        },
        "id": "TSGv2nm0m0fO",
        "outputId": "d2c9b68c-8a6d-4292-efd3-38a730cfcc64"
      },
      "execution_count": 75,
      "outputs": [
        {
          "output_type": "execute_result",
          "data": {
            "text/plain": [
              "2023"
            ]
          },
          "metadata": {},
          "execution_count": 75
        }
      ]
    },
    {
      "cell_type": "markdown",
      "source": [
        "To access variable of a call by external user, we can create public function inside our class. "
      ],
      "metadata": {
        "id": "Ye4w1OjmnJQ2"
      }
    },
    {
      "cell_type": "code",
      "source": [
        "class Car:\n",
        "\n",
        "  def __init__(self, year, make, model, speed):\n",
        "    self.__year=year # prefix '__' double underscore in 'year' variable represents private member\n",
        "    self.__make=make\n",
        "    self.__model=model\n",
        "    self.__speed=speed\n",
        "\n",
        "\n",
        "  def set_speed(self, speed): #this func will able to set speed by external user since we have set this func as public, no __ prefixed\n",
        "    self.__speed = 0 if speed < 0 else speed \n",
        "\n",
        "  def get_speed(self): #with this method external user can able to see speed since we have set this func/method as public, no __ prefixed\n",
        "    return self.__speed\n"
      ],
      "metadata": {
        "id": "hPfDv3JMm_1t"
      },
      "execution_count": 92,
      "outputs": []
    },
    {
      "cell_type": "code",
      "source": [
        "obj_car=Car(2022,'BMW','BMW X3',20) #object creation"
      ],
      "metadata": {
        "id": "YNNzYDp3vgrA"
      },
      "execution_count": 93,
      "outputs": []
    },
    {
      "cell_type": "code",
      "source": [
        "obj_car.set_speed(25) #external user can able to set the speed since method/func is public, but not able to see the speed"
      ],
      "metadata": {
        "id": "gCslBISj0miX"
      },
      "execution_count": 97,
      "outputs": []
    },
    {
      "cell_type": "code",
      "source": [
        "obj_car.get_speed() # by calling this method external user can see the speed but no direct access to variable"
      ],
      "metadata": {
        "colab": {
          "base_uri": "https://localhost:8080/"
        },
        "id": "iB74d6DF3kuN",
        "outputId": "208baa7f-cc81-4285-b1ee-6043ac5349c1"
      },
      "execution_count": 101,
      "outputs": [
        {
          "output_type": "execute_result",
          "data": {
            "text/plain": [
              "25"
            ]
          },
          "metadata": {},
          "execution_count": 101
        }
      ]
    },
    {
      "cell_type": "code",
      "source": [
        "class bank_acc:\n",
        "\n",
        "  def __init__(self, acc_no, balance) :\n",
        "    self.__acc_no = acc_no\n",
        "    self.__balance = balance\n",
        "\n",
        "\n",
        "  def deposit(self, amount) :\n",
        "    self.__balance = self.__balance + amount\n",
        "\n",
        "  def withdraw(self, amount) :\n",
        "    if self.__balance >= amount :\n",
        "        self.__balance = self.__balance - amount\n",
        "\n",
        "        return True\n",
        "\n",
        "    else :\n",
        "\n",
        "        return False\n",
        "\n",
        "  def get_balance(self) :\n",
        "    return self.__balance\n",
        "\n",
        "\n",
        "    \n",
        "        "
      ],
      "metadata": {
        "id": "ZMKW5Qyc8CtQ"
      },
      "execution_count": 119,
      "outputs": []
    },
    {
      "cell_type": "code",
      "source": [
        "obj_bank_acc = bank_acc(123456, 1000) #object creation"
      ],
      "metadata": {
        "id": "_LXbhhnV_okh"
      },
      "execution_count": 120,
      "outputs": []
    },
    {
      "cell_type": "code",
      "source": [
        "obj_bank_acc #with this class object we are not able to access balance and acc_no variable since we have declared them as private, only able to access public variable and functions "
      ],
      "metadata": {
        "colab": {
          "base_uri": "https://localhost:8080/"
        },
        "id": "jYNABsGW_94B",
        "outputId": "b97e9850-6c19-4973-c447-500fb6aae14e"
      },
      "execution_count": 111,
      "outputs": [
        {
          "output_type": "execute_result",
          "data": {
            "text/plain": [
              "<__main__.bank_acc at 0x7f59a7aada90>"
            ]
          },
          "metadata": {},
          "execution_count": 111
        }
      ]
    },
    {
      "cell_type": "code",
      "source": [
        "obj_bank_acc.get_balance() #balance can be accessed with objcect by calling public method which declared in class to show balance"
      ],
      "metadata": {
        "colab": {
          "base_uri": "https://localhost:8080/"
        },
        "id": "opc9vv4sAMAb",
        "outputId": "f831ee4d-ebfd-4d51-efaa-2c77df70a10c"
      },
      "execution_count": 121,
      "outputs": [
        {
          "output_type": "execute_result",
          "data": {
            "text/plain": [
              "1000"
            ]
          },
          "metadata": {},
          "execution_count": 121
        }
      ]
    },
    {
      "cell_type": "code",
      "source": [
        "obj_bank_acc.deposit(40000)"
      ],
      "metadata": {
        "id": "H8JwpV9wDmjg"
      },
      "execution_count": 131,
      "outputs": []
    },
    {
      "cell_type": "code",
      "source": [
        "obj_bank_acc.get_balance()"
      ],
      "metadata": {
        "colab": {
          "base_uri": "https://localhost:8080/"
        },
        "id": "VAug2FP5EHi1",
        "outputId": "b189d829-5c35-420a-b065-683607b7612d"
      },
      "execution_count": 133,
      "outputs": [
        {
          "output_type": "execute_result",
          "data": {
            "text/plain": [
              "47011"
            ]
          },
          "metadata": {},
          "execution_count": 133
        }
      ]
    },
    {
      "cell_type": "code",
      "source": [
        "obj_bank_acc.withdraw(10000)"
      ],
      "metadata": {
        "colab": {
          "base_uri": "https://localhost:8080/"
        },
        "id": "72cHx4-8FRzR",
        "outputId": "56f552af-9db9-4eff-f08d-512420fef4ce"
      },
      "execution_count": 142,
      "outputs": [
        {
          "output_type": "execute_result",
          "data": {
            "text/plain": [
              "False"
            ]
          },
          "metadata": {},
          "execution_count": 142
        }
      ]
    },
    {
      "cell_type": "code",
      "source": [
        "obj_bank_acc.get_balance()"
      ],
      "metadata": {
        "colab": {
          "base_uri": "https://localhost:8080/"
        },
        "id": "QGn1CLjaFaVK",
        "outputId": "7031bedb-686e-4a7a-e76d-78741256645c"
      },
      "execution_count": 144,
      "outputs": [
        {
          "output_type": "execute_result",
          "data": {
            "text/plain": [
              "7011"
            ]
          },
          "metadata": {},
          "execution_count": 144
        }
      ]
    },
    {
      "cell_type": "code",
      "source": [
        "obj_bank_acc.deposit(10000000)"
      ],
      "metadata": {
        "id": "ZsgL3ZlDGWWg"
      },
      "execution_count": 146,
      "outputs": []
    },
    {
      "cell_type": "code",
      "source": [
        "obj_bank_acc.get_balance()"
      ],
      "metadata": {
        "colab": {
          "base_uri": "https://localhost:8080/"
        },
        "id": "DGMG0DzGGbti",
        "outputId": "7fba0eca-6b0c-459e-a100-df4322e77d09"
      },
      "execution_count": 147,
      "outputs": [
        {
          "output_type": "execute_result",
          "data": {
            "text/plain": [
              "20007011"
            ]
          },
          "metadata": {},
          "execution_count": 147
        }
      ]
    },
    {
      "cell_type": "markdown",
      "source": [
        "Inheritance:\n",
        "\n",
        "It is a mechanism that allows you to create a hierarchy of classes that share a set of properties and methods by deriving a class from another class. Inheritance is the capability of one class to derive or inherit the properties from another class.\n",
        "\n",
        "Benefits of inheritance:\n",
        "\n",
        "1. It represents real-world relationships well.\n",
        "2. It provides the reusability of a code. We don’t have to write the same code again and again. Also, it allows us to add more features to a class without modifying it.\n",
        "3. It is transitive in nature, which means that if class B inherits from another class A, then all the subclasses of B would automatically inherit from class A.\n",
        "4. Inheritance offers a simple, understandable model structure. \n",
        "Less development and maintenance expenses result from an inheritance.\n",
        "\n",
        "Parent class is the class being inherited from, also called base class.\n",
        "Child class is the class that inherits from another class, also called derived class.\n",
        "\n",
        "Parent class: Any class can be a parent class, so the syntax is the same as creating any other class.\n",
        "\n",
        "Child class: To create a class that inherits the functionality from another class, send the parent class as a parameter when creating the child class.\n",
        "\n",
        "Python also has a super() function that will make the child class inherit all the methods and properties from its parent.\n",
        "\n",
        "By using the super() function, you do not have to use the name of the parent element, it will automatically inherit the methods and properties from its parent."
      ],
      "metadata": {
        "id": "s6BSwg_UH2Su"
      }
    },
    {
      "cell_type": "code",
      "source": [
        "class parent:\n",
        "\n",
        "  def test_parent(self):\n",
        "    print(\"This is parent class\")\n",
        "\n"
      ],
      "metadata": {
        "id": "X2iL-YloZ_hb"
      },
      "execution_count": 3,
      "outputs": []
    },
    {
      "cell_type": "code",
      "source": [
        "class child(parent): #syntax to create child class\n",
        "  pass"
      ],
      "metadata": {
        "id": "9hqeStPegKZx"
      },
      "execution_count": 4,
      "outputs": []
    },
    {
      "cell_type": "code",
      "source": [
        "chi = child() #child class object creation"
      ],
      "metadata": {
        "id": "AX0vVK1agRf_"
      },
      "execution_count": 5,
      "outputs": []
    },
    {
      "cell_type": "code",
      "source": [
        "chi.test_parent() # with child class object, we can call parent class's method"
      ],
      "metadata": {
        "colab": {
          "base_uri": "https://localhost:8080/"
        },
        "id": "omlBIHOviFut",
        "outputId": "da188b2f-fe90-4ff1-adfb-da06042f2a41"
      },
      "execution_count": 7,
      "outputs": [
        {
          "output_type": "stream",
          "name": "stdout",
          "text": [
            "This is parent class\n"
          ]
        }
      ]
    },
    {
      "cell_type": "markdown",
      "source": [
        "Different types of Inheritance:\n",
        "Single inheritance: When a child class inherits from only one parent class, it is called single inheritance. We saw an example above.\n",
        "\n",
        "Multiple inheritances: When a child class inherits from multiple parent classes, it is called multiple inheritances. \n",
        "\n",
        "Multilevel inheritance: When we have a child and grandchild relationship. \n",
        "\n",
        "Hierarchical inheritance More than one derived class are created from a single base.\n",
        "\n",
        "Hybrid inheritance: This form combines more than one form of inheritance. Basically, it is a blend of more than one type of inheritance."
      ],
      "metadata": {
        "id": "2wtzY5iWjCXv"
      }
    },
    {
      "cell_type": "code",
      "source": [
        "#Multilevel inheritance\n",
        "class class1: #parent class\n",
        "  def test_class1(self):\n",
        "      print(\"This is class1\")\n"
      ],
      "metadata": {
        "id": "f5hVl1M2iyPe"
      },
      "execution_count": 12,
      "outputs": []
    },
    {
      "cell_type": "code",
      "source": [
        "class class2(class1): #child1 class inheriting class1 \n",
        "  def test_class2(self):\n",
        "    print(\"This is class2\")"
      ],
      "metadata": {
        "id": "HaWa4oBAjtdG"
      },
      "execution_count": 13,
      "outputs": []
    },
    {
      "cell_type": "code",
      "source": [
        "class class3(class2): #child2 class inheriting class2 and class1\n",
        "  def test_class3(self):\n",
        "    print(\"This is class3\")"
      ],
      "metadata": {
        "id": "MbVQsWzojzyZ"
      },
      "execution_count": 15,
      "outputs": []
    },
    {
      "cell_type": "code",
      "source": [
        "obj_class3 = class3() #calss3 class object creation"
      ],
      "metadata": {
        "id": "Io5MRgCDkkBT"
      },
      "execution_count": 18,
      "outputs": []
    },
    {
      "cell_type": "code",
      "source": [
        "obj_class3.test_class1() #class 3 object can access methods of class 1"
      ],
      "metadata": {
        "colab": {
          "base_uri": "https://localhost:8080/"
        },
        "id": "vANLXbQ1mUSJ",
        "outputId": "75147b9b-9f4e-4df0-803c-9f0531d1a17c"
      },
      "execution_count": 20,
      "outputs": [
        {
          "output_type": "stream",
          "name": "stdout",
          "text": [
            "This is class1\n"
          ]
        }
      ]
    },
    {
      "cell_type": "code",
      "source": [
        "obj_class3.test_class2() #class 3 object can access methods of class 2 - Thisi s multilelel inhiritance"
      ],
      "metadata": {
        "colab": {
          "base_uri": "https://localhost:8080/"
        },
        "id": "nMJRfE5jmatG",
        "outputId": "db049bdd-a1f9-4d30-c0d7-c869d927d3b3"
      },
      "execution_count": 22,
      "outputs": [
        {
          "output_type": "stream",
          "name": "stdout",
          "text": [
            "This is class2\n"
          ]
        }
      ]
    },
    {
      "cell_type": "code",
      "source": [
        "#Multiple inheritance\n",
        "\n",
        "class class4: #parent class 1\n",
        "  def test_class4(self):\n",
        "    print(\"This is class 4\")\n"
      ],
      "metadata": {
        "id": "mNIfp6mTmbFb"
      },
      "execution_count": 23,
      "outputs": []
    },
    {
      "cell_type": "code",
      "source": [
        "class class5: #parent class 2\n",
        "  def test_class5(self):\n",
        "    print(\"This is class 5\")"
      ],
      "metadata": {
        "id": "bTdJb0LIpcma"
      },
      "execution_count": 24,
      "outputs": []
    },
    {
      "cell_type": "code",
      "source": [
        "class class6(class4,class5): #child class inheriting from both parent classes class 4 and class 5.\n",
        "  def test_class6(self):\n",
        "    pass"
      ],
      "metadata": {
        "id": "ahF9nhO4piDh"
      },
      "execution_count": 28,
      "outputs": []
    },
    {
      "cell_type": "code",
      "source": [
        "obj_class6 = class6() #child class object creation"
      ],
      "metadata": {
        "id": "rSWRN1Z3pyLV"
      },
      "execution_count": 29,
      "outputs": []
    },
    {
      "cell_type": "code",
      "source": [
        "obj_class6.test_class4() # child class can able to access methods of parent class4 as well as class 5 as below - multiple inheritance"
      ],
      "metadata": {
        "colab": {
          "base_uri": "https://localhost:8080/"
        },
        "id": "jER1PfMZp2au",
        "outputId": "bdb5a75a-2dd6-49f6-9809-83b79929ed79"
      },
      "execution_count": 31,
      "outputs": [
        {
          "output_type": "stream",
          "name": "stdout",
          "text": [
            "This is class 4\n"
          ]
        }
      ]
    },
    {
      "cell_type": "code",
      "source": [
        "obj_class6.test_class5() # child class can able to access methods of parent class5 as well as class 4 as above - multiple inheritance"
      ],
      "metadata": {
        "colab": {
          "base_uri": "https://localhost:8080/"
        },
        "id": "ZJM17ltSp7o4",
        "outputId": "24e92e8e-3539-49aa-d1ee-b4f7e0c05602"
      },
      "execution_count": 33,
      "outputs": [
        {
          "output_type": "stream",
          "name": "stdout",
          "text": [
            "\n"
          ]
        }
      ]
    }
  ]
}

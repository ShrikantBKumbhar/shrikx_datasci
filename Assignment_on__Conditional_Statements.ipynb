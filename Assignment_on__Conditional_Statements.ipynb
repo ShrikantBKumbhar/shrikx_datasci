{
  "nbformat": 4,
  "nbformat_minor": 0,
  "metadata": {
    "colab": {
      "provenance": [],
      "collapsed_sections": []
    },
    "kernelspec": {
      "name": "python3",
      "display_name": "Python 3"
    },
    "language_info": {
      "name": "python"
    }
  },
  "cells": [
    {
      "cell_type": "markdown",
      "source": [
        "***1. Take three numbers 'x', 'y' and 'z' as input from the user and check which number is greater***\n"
      ],
      "metadata": {
        "id": "AcR_27Hh5QTe"
      }
    },
    {
      "cell_type": "code",
      "source": [
        " a=float(input('Enter 1st number: '))\n",
        " b=float(input('Enter 2nd number: '))\n",
        " c=float(input('Enter 3rd number: '))\n",
        "\n",
        "\n",
        "\n",
        " if a>b>c:\n",
        "  print('Greater number is: ',int(a))\n",
        "  \n",
        " elif b>a>c:\n",
        "  print('Greater number is: ',int(b))\n",
        "  \n",
        " else:\n",
        "  print('Greater number is: ',int(c))"
      ],
      "metadata": {
        "id": "ZqmjTxbD5QG4",
        "colab": {
          "base_uri": "https://localhost:8080/"
        },
        "outputId": "f22f84af-66c8-4b99-b2b9-91b65b6c07ac"
      },
      "execution_count": 7,
      "outputs": [
        {
          "output_type": "stream",
          "name": "stdout",
          "text": [
            "Enter 1st number: 112\n",
            "Enter 2nd number: 554\n",
            "Enter 3rd number: 8545\n",
            "Greater number is:  8545\n"
          ]
        }
      ]
    },
    {
      "cell_type": "markdown",
      "source": [
        "*** 2. Take an alphabet as input from the user and check if the alphabet is a vowel, consonant or an exception***\n",
        "\n",
        "\n",
        "***Vowel - 'a','e','i','o','u'***\n",
        "\n",
        "***Exception - 'h', 'y'***\n",
        "\n",
        "***Consonant - rest other alphabets ***"
      ],
      "metadata": {
        "id": "QgkCsQlx4c5Y"
      }
    },
    {
      "cell_type": "code",
      "source": [
        "a=input('Enter any alphabet: ')\n",
        "vowel=['a','e','i','o','u']\n",
        "exception=['h','y']\n",
        "\n",
        "if a in vowel:\n",
        "  print('Entered alphabet is Vowel')\n",
        "elif a in exception:\n",
        "  print('Exception')\n",
        "else:\n",
        "  print('Entered alphabet is Consonant')\n",
        "#else:\n",
        " # print('ERROR')"
      ],
      "metadata": {
        "id": "mTRgMPbt4dTk",
        "colab": {
          "base_uri": "https://localhost:8080/"
        },
        "outputId": "5efecabd-89c7-4071-d680-3430e1ef8047"
      },
      "execution_count": 17,
      "outputs": [
        {
          "output_type": "stream",
          "name": "stdout",
          "text": [
            "Enter any alphabet: h\n",
            "Exception\n"
          ]
        }
      ]
    },
    {
      "cell_type": "markdown",
      "source": [
        "Write a program to check whether a number given by a user is divisible by 2 and 3 both "
      ],
      "metadata": {
        "id": "5TqcIsuG4N4x"
      }
    },
    {
      "cell_type": "code",
      "source": [
        "no=float(input('Enter any no: '))\n",
        "if no%2==0 and no%3==0:\n",
        "  print('No is divisible by 2 and 3 both: ')\n",
        "else:\n",
        "  print('No is non divisible by 2 and 3 both: ')"
      ],
      "metadata": {
        "id": "1TobEmuY4NkT",
        "colab": {
          "base_uri": "https://localhost:8080/"
        },
        "outputId": "18d3a5fb-4459-4e96-f935-73d59775bb32"
      },
      "execution_count": 20,
      "outputs": [
        {
          "output_type": "stream",
          "name": "stdout",
          "text": [
            "Enter any no: 18\n",
            "No is divisible by 2 and 3 both: \n"
          ]
        }
      ]
    },
    {
      "cell_type": "markdown",
      "source": [
        "Write a program to accept the cost price  of a bike as input and display the road tax to be paid according to the following crieteria :-\n",
        "\n",
        "Cost price - 100000 Tax - 15%\n",
        "\n",
        "Cost price - between 50000 to 100000 Tax - 10%\n",
        "\n",
        "Cost price - less than 50000 Tax - 5%"
      ],
      "metadata": {
        "id": "Vl0l7eM93o-k"
      }
    },
    {
      "cell_type": "code",
      "source": [
        "price=float(input('Enter bike cost to calculate tax: '))\n",
        "\n",
        "if price>=100000:\n",
        "  t=0.15\n",
        "elif price>50000 and price<100000:\n",
        "  t=0.10\n",
        "elif price<50000:\n",
        "  t=0.05\n",
        "\n",
        "tax=price*t  \n",
        "print('Tax on your bike cost: ', tax)"
      ],
      "metadata": {
        "id": "TdHw-M2Z3lkL",
        "colab": {
          "base_uri": "https://localhost:8080/"
        },
        "outputId": "bdb38045-03a9-49d1-e70d-da0ee0bd5ccd"
      },
      "execution_count": 54,
      "outputs": [
        {
          "output_type": "stream",
          "name": "stdout",
          "text": [
            "Enter bike cost to calculate tax: 40000\n",
            "Tax on your bike cost:  2000.0\n"
          ]
        }
      ]
    },
    {
      "cell_type": "markdown",
      "source": [
        "Write a program to calculate the electricity bill by accepting the number of units consumed by the user as input. Use the following price chart for reference :-\n",
        "\n",
        "Price of first 100 units - no charge\n",
        "\n",
        "Price of next 100 units - Rs 5/- per unit\n",
        "\n",
        "After 200 units - Rs 10/- per unit"
      ],
      "metadata": {
        "id": "4qwB-dyV2vdv"
      }
    },
    {
      "cell_type": "code",
      "execution_count": 69,
      "metadata": {
        "id": "9CRK7oBa2rjP",
        "colab": {
          "base_uri": "https://localhost:8080/"
        },
        "outputId": "47b242f8-d8a2-4236-ec22-7b926785a3cc"
      },
      "outputs": [
        {
          "output_type": "stream",
          "name": "stdout",
          "text": [
            "Enter no of units consumed: 1000\n",
            "Your bill is:  8500.0\n"
          ]
        }
      ],
      "source": [
        "u=float(input('Enter no of units consumed: '))\n",
        "\n",
        "if u<=100:\n",
        " print('No charge')\n",
        "elif 100<u<=200:\n",
        " p=(u-100)*5\n",
        " print('Your bill is: ', p) \n",
        "elif u>200:\n",
        " c=(u-200)*10+500\n",
        " print('Your bill is: ', c)"
      ]
    }
  ]
}